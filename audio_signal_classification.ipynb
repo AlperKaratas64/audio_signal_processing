{
 "cells": [
  {
   "cell_type": "code",
   "execution_count": 2,
   "id": "99457585",
   "metadata": {},
   "outputs": [
    {
     "name": "stdout",
     "output_type": "stream",
     "text": [
      "2.10.0\n"
     ]
    }
   ],
   "source": [
    "#tensorflow versiyonunu kontrol ediyor\n",
    "import tensorflow as tf\n",
    "print(tf.__version__)"
   ]
  },
  {
   "cell_type": "code",
   "execution_count": 3,
   "id": "99e8db77",
   "metadata": {},
   "outputs": [],
   "source": [
    "#kütüphanelerin yüklenmesi\n",
    "import matplotlib.pyplot as plt\n",
    "import pandas as pd\n",
    "import os\n",
    "import librosa\n",
    "import numpy as np\n",
    "from tqdm import tqdm\n",
    "from sklearn.model_selection import train_test_split\n",
    "from tensorflow.keras.utils import to_categorical\n",
    "from sklearn.preprocessing import LabelEncoder\n",
    "from tensorflow.keras.models import Sequential\n",
    "from tensorflow.keras.layers import Dense,Dropout,Activation,Flatten\n",
    "from tensorflow.keras.optimizers import Adam\n",
    "from sklearn import metrics\n",
    "from tensorflow.keras.callbacks import ModelCheckpoint\n",
    "from datetime import datetime \n",
    "\n"
   ]
  },
  {
   "cell_type": "code",
   "execution_count": 4,
   "id": "e8741e89",
   "metadata": {},
   "outputs": [],
   "source": [
    "#Librosa kütüphanesini incelemeye başlayalım. \n",
    "#Burada Librosa kütüphanesi ile karmaşık bir ses sinyali dosyasını yani stereo dosyasını mono sinyale dönüştürür. \n",
    "#Tek boyutlu olur ve dijital hale getir."
   ]
  },
  {
   "cell_type": "code",
   "execution_count": 5,
   "id": "0b32dc92",
   "metadata": {},
   "outputs": [
    {
     "name": "stderr",
     "output_type": "stream",
     "text": [
      "C:\\Users\\Monster\\AppData\\Local\\Temp\\ipykernel_7256\\306815564.py:4: UserWarning: PySoundFile failed. Trying audioread instead.\n",
      "  librosa_audio_data, librosa_sample_rate = librosa.load(audio_file_path)\n",
      "C:\\Users\\Monster\\anaconda3\\envs\\tensorflow\\lib\\site-packages\\librosa\\core\\audio.py:184: FutureWarning: librosa.core.audio.__audioread_load\n",
      "\tDeprecated as of librosa version 0.10.0.\n",
      "\tIt will be removed in librosa version 1.0.\n",
      "  y, sr_native = __audioread_load(path, offset, duration, dtype)\n"
     ]
    },
    {
     "ename": "FileNotFoundError",
     "evalue": "[Errno 2] No such file or directory: 'audio_file_path.vav'",
     "output_type": "error",
     "traceback": [
      "\u001b[1;31m---------------------------------------------------------------------------\u001b[0m",
      "\u001b[1;31mLibsndfileError\u001b[0m                           Traceback (most recent call last)",
      "File \u001b[1;32m~\\anaconda3\\envs\\tensorflow\\lib\\site-packages\\librosa\\core\\audio.py:176\u001b[0m, in \u001b[0;36mload\u001b[1;34m(path, sr, mono, offset, duration, dtype, res_type)\u001b[0m\n\u001b[0;32m    175\u001b[0m \u001b[38;5;28;01mtry\u001b[39;00m:\n\u001b[1;32m--> 176\u001b[0m     y, sr_native \u001b[38;5;241m=\u001b[39m \u001b[43m__soundfile_load\u001b[49m\u001b[43m(\u001b[49m\u001b[43mpath\u001b[49m\u001b[43m,\u001b[49m\u001b[43m \u001b[49m\u001b[43moffset\u001b[49m\u001b[43m,\u001b[49m\u001b[43m \u001b[49m\u001b[43mduration\u001b[49m\u001b[43m,\u001b[49m\u001b[43m \u001b[49m\u001b[43mdtype\u001b[49m\u001b[43m)\u001b[49m\n\u001b[0;32m    178\u001b[0m \u001b[38;5;28;01mexcept\u001b[39;00m sf\u001b[38;5;241m.\u001b[39mSoundFileRuntimeError \u001b[38;5;28;01mas\u001b[39;00m exc:\n\u001b[0;32m    179\u001b[0m     \u001b[38;5;66;03m# If soundfile failed, try audioread instead\u001b[39;00m\n",
      "File \u001b[1;32m~\\anaconda3\\envs\\tensorflow\\lib\\site-packages\\librosa\\core\\audio.py:209\u001b[0m, in \u001b[0;36m__soundfile_load\u001b[1;34m(path, offset, duration, dtype)\u001b[0m\n\u001b[0;32m    207\u001b[0m \u001b[38;5;28;01melse\u001b[39;00m:\n\u001b[0;32m    208\u001b[0m     \u001b[38;5;66;03m# Otherwise, create the soundfile object\u001b[39;00m\n\u001b[1;32m--> 209\u001b[0m     context \u001b[38;5;241m=\u001b[39m \u001b[43msf\u001b[49m\u001b[38;5;241;43m.\u001b[39;49m\u001b[43mSoundFile\u001b[49m\u001b[43m(\u001b[49m\u001b[43mpath\u001b[49m\u001b[43m)\u001b[49m\n\u001b[0;32m    211\u001b[0m \u001b[38;5;28;01mwith\u001b[39;00m context \u001b[38;5;28;01mas\u001b[39;00m sf_desc:\n",
      "File \u001b[1;32m~\\anaconda3\\envs\\tensorflow\\lib\\site-packages\\soundfile.py:658\u001b[0m, in \u001b[0;36mSoundFile.__init__\u001b[1;34m(self, file, mode, samplerate, channels, subtype, endian, format, closefd)\u001b[0m\n\u001b[0;32m    656\u001b[0m \u001b[38;5;28mself\u001b[39m\u001b[38;5;241m.\u001b[39m_info \u001b[38;5;241m=\u001b[39m _create_info_struct(file, mode, samplerate, channels,\n\u001b[0;32m    657\u001b[0m                                  \u001b[38;5;28mformat\u001b[39m, subtype, endian)\n\u001b[1;32m--> 658\u001b[0m \u001b[38;5;28mself\u001b[39m\u001b[38;5;241m.\u001b[39m_file \u001b[38;5;241m=\u001b[39m \u001b[38;5;28;43mself\u001b[39;49m\u001b[38;5;241;43m.\u001b[39;49m\u001b[43m_open\u001b[49m\u001b[43m(\u001b[49m\u001b[43mfile\u001b[49m\u001b[43m,\u001b[49m\u001b[43m \u001b[49m\u001b[43mmode_int\u001b[49m\u001b[43m,\u001b[49m\u001b[43m \u001b[49m\u001b[43mclosefd\u001b[49m\u001b[43m)\u001b[49m\n\u001b[0;32m    659\u001b[0m \u001b[38;5;28;01mif\u001b[39;00m \u001b[38;5;28mset\u001b[39m(mode)\u001b[38;5;241m.\u001b[39missuperset(\u001b[38;5;124m'\u001b[39m\u001b[38;5;124mr+\u001b[39m\u001b[38;5;124m'\u001b[39m) \u001b[38;5;129;01mand\u001b[39;00m \u001b[38;5;28mself\u001b[39m\u001b[38;5;241m.\u001b[39mseekable():\n\u001b[0;32m    660\u001b[0m     \u001b[38;5;66;03m# Move write position to 0 (like in Python file objects)\u001b[39;00m\n",
      "File \u001b[1;32m~\\anaconda3\\envs\\tensorflow\\lib\\site-packages\\soundfile.py:1216\u001b[0m, in \u001b[0;36mSoundFile._open\u001b[1;34m(self, file, mode_int, closefd)\u001b[0m\n\u001b[0;32m   1215\u001b[0m     err \u001b[38;5;241m=\u001b[39m _snd\u001b[38;5;241m.\u001b[39msf_error(file_ptr)\n\u001b[1;32m-> 1216\u001b[0m     \u001b[38;5;28;01mraise\u001b[39;00m LibsndfileError(err, prefix\u001b[38;5;241m=\u001b[39m\u001b[38;5;124m\"\u001b[39m\u001b[38;5;124mError opening \u001b[39m\u001b[38;5;132;01m{0!r}\u001b[39;00m\u001b[38;5;124m: \u001b[39m\u001b[38;5;124m\"\u001b[39m\u001b[38;5;241m.\u001b[39mformat(\u001b[38;5;28mself\u001b[39m\u001b[38;5;241m.\u001b[39mname))\n\u001b[0;32m   1217\u001b[0m \u001b[38;5;28;01mif\u001b[39;00m mode_int \u001b[38;5;241m==\u001b[39m _snd\u001b[38;5;241m.\u001b[39mSFM_WRITE:\n\u001b[0;32m   1218\u001b[0m     \u001b[38;5;66;03m# Due to a bug in libsndfile version <= 1.0.25, frames != 0\u001b[39;00m\n\u001b[0;32m   1219\u001b[0m     \u001b[38;5;66;03m# when opening a named pipe in SFM_WRITE mode.\u001b[39;00m\n\u001b[0;32m   1220\u001b[0m     \u001b[38;5;66;03m# See http://github.com/erikd/libsndfile/issues/77.\u001b[39;00m\n",
      "\u001b[1;31mLibsndfileError\u001b[0m: Error opening 'audio_file_path.vav': System error.",
      "\nDuring handling of the above exception, another exception occurred:\n",
      "\u001b[1;31mFileNotFoundError\u001b[0m                         Traceback (most recent call last)",
      "Cell \u001b[1;32mIn[5], line 4\u001b[0m\n\u001b[0;32m      1\u001b[0m \u001b[38;5;66;03m#ses sinyali okuyalım\u001b[39;00m\n\u001b[0;32m      2\u001b[0m audio_file_path\u001b[38;5;241m=\u001b[39m\u001b[38;5;124m'\u001b[39m\u001b[38;5;124maudio_file_path.vav\u001b[39m\u001b[38;5;124m'\u001b[39m \u001b[38;5;66;03m#veriyi eklediğimiz kısım\u001b[39;00m\n\u001b[1;32m----> 4\u001b[0m librosa_audio_data, librosa_sample_rate \u001b[38;5;241m=\u001b[39m \u001b[43mlibrosa\u001b[49m\u001b[38;5;241;43m.\u001b[39;49m\u001b[43mload\u001b[49m\u001b[43m(\u001b[49m\u001b[43maudio_file_path\u001b[49m\u001b[43m)\u001b[49m\n",
      "File \u001b[1;32m~\\anaconda3\\envs\\tensorflow\\lib\\site-packages\\librosa\\core\\audio.py:184\u001b[0m, in \u001b[0;36mload\u001b[1;34m(path, sr, mono, offset, duration, dtype, res_type)\u001b[0m\n\u001b[0;32m    180\u001b[0m \u001b[38;5;28;01mif\u001b[39;00m \u001b[38;5;28misinstance\u001b[39m(path, (\u001b[38;5;28mstr\u001b[39m, pathlib\u001b[38;5;241m.\u001b[39mPurePath)):\n\u001b[0;32m    181\u001b[0m     warnings\u001b[38;5;241m.\u001b[39mwarn(\n\u001b[0;32m    182\u001b[0m         \u001b[38;5;124m\"\u001b[39m\u001b[38;5;124mPySoundFile failed. Trying audioread instead.\u001b[39m\u001b[38;5;124m\"\u001b[39m, stacklevel\u001b[38;5;241m=\u001b[39m\u001b[38;5;241m2\u001b[39m\n\u001b[0;32m    183\u001b[0m     )\n\u001b[1;32m--> 184\u001b[0m     y, sr_native \u001b[38;5;241m=\u001b[39m \u001b[43m__audioread_load\u001b[49m\u001b[43m(\u001b[49m\u001b[43mpath\u001b[49m\u001b[43m,\u001b[49m\u001b[43m \u001b[49m\u001b[43moffset\u001b[49m\u001b[43m,\u001b[49m\u001b[43m \u001b[49m\u001b[43mduration\u001b[49m\u001b[43m,\u001b[49m\u001b[43m \u001b[49m\u001b[43mdtype\u001b[49m\u001b[43m)\u001b[49m\n\u001b[0;32m    185\u001b[0m \u001b[38;5;28;01melse\u001b[39;00m:\n\u001b[0;32m    186\u001b[0m     \u001b[38;5;28;01mraise\u001b[39;00m exc\n",
      "File \u001b[1;32m~\\anaconda3\\envs\\tensorflow\\lib\\site-packages\\decorator.py:232\u001b[0m, in \u001b[0;36mdecorate.<locals>.fun\u001b[1;34m(*args, **kw)\u001b[0m\n\u001b[0;32m    230\u001b[0m \u001b[38;5;28;01mif\u001b[39;00m \u001b[38;5;129;01mnot\u001b[39;00m kwsyntax:\n\u001b[0;32m    231\u001b[0m     args, kw \u001b[38;5;241m=\u001b[39m fix(args, kw, sig)\n\u001b[1;32m--> 232\u001b[0m \u001b[38;5;28;01mreturn\u001b[39;00m caller(func, \u001b[38;5;241m*\u001b[39m(extras \u001b[38;5;241m+\u001b[39m args), \u001b[38;5;241m*\u001b[39m\u001b[38;5;241m*\u001b[39mkw)\n",
      "File \u001b[1;32m~\\anaconda3\\envs\\tensorflow\\lib\\site-packages\\librosa\\util\\decorators.py:60\u001b[0m, in \u001b[0;36mdeprecated.<locals>.__wrapper\u001b[1;34m(func, *args, **kwargs)\u001b[0m\n\u001b[0;32m     51\u001b[0m \u001b[38;5;250m\u001b[39m\u001b[38;5;124;03m\"\"\"Warn the user, and then proceed.\"\"\"\u001b[39;00m\n\u001b[0;32m     52\u001b[0m warnings\u001b[38;5;241m.\u001b[39mwarn(\n\u001b[0;32m     53\u001b[0m     \u001b[38;5;124m\"\u001b[39m\u001b[38;5;132;01m{:s}\u001b[39;00m\u001b[38;5;124m.\u001b[39m\u001b[38;5;132;01m{:s}\u001b[39;00m\u001b[38;5;130;01m\\n\u001b[39;00m\u001b[38;5;130;01m\\t\u001b[39;00m\u001b[38;5;124mDeprecated as of librosa version \u001b[39m\u001b[38;5;132;01m{:s}\u001b[39;00m\u001b[38;5;124m.\u001b[39m\u001b[38;5;124m\"\u001b[39m\n\u001b[0;32m     54\u001b[0m     \u001b[38;5;124m\"\u001b[39m\u001b[38;5;130;01m\\n\u001b[39;00m\u001b[38;5;130;01m\\t\u001b[39;00m\u001b[38;5;124mIt will be removed in librosa version \u001b[39m\u001b[38;5;132;01m{:s}\u001b[39;00m\u001b[38;5;124m.\u001b[39m\u001b[38;5;124m\"\u001b[39m\u001b[38;5;241m.\u001b[39mformat(\n\u001b[1;32m   (...)\u001b[0m\n\u001b[0;32m     58\u001b[0m     stacklevel\u001b[38;5;241m=\u001b[39m\u001b[38;5;241m3\u001b[39m,  \u001b[38;5;66;03m# Would be 2, but the decorator adds a level\u001b[39;00m\n\u001b[0;32m     59\u001b[0m )\n\u001b[1;32m---> 60\u001b[0m \u001b[38;5;28;01mreturn\u001b[39;00m func(\u001b[38;5;241m*\u001b[39margs, \u001b[38;5;241m*\u001b[39m\u001b[38;5;241m*\u001b[39mkwargs)\n",
      "File \u001b[1;32m~\\anaconda3\\envs\\tensorflow\\lib\\site-packages\\librosa\\core\\audio.py:241\u001b[0m, in \u001b[0;36m__audioread_load\u001b[1;34m(path, offset, duration, dtype)\u001b[0m\n\u001b[0;32m    238\u001b[0m     reader \u001b[38;5;241m=\u001b[39m path\n\u001b[0;32m    239\u001b[0m \u001b[38;5;28;01melse\u001b[39;00m:\n\u001b[0;32m    240\u001b[0m     \u001b[38;5;66;03m# If the input was not an audioread object, try to open it\u001b[39;00m\n\u001b[1;32m--> 241\u001b[0m     reader \u001b[38;5;241m=\u001b[39m \u001b[43maudioread\u001b[49m\u001b[38;5;241;43m.\u001b[39;49m\u001b[43maudio_open\u001b[49m\u001b[43m(\u001b[49m\u001b[43mpath\u001b[49m\u001b[43m)\u001b[49m\n\u001b[0;32m    243\u001b[0m \u001b[38;5;28;01mwith\u001b[39;00m reader \u001b[38;5;28;01mas\u001b[39;00m input_file:\n\u001b[0;32m    244\u001b[0m     sr_native \u001b[38;5;241m=\u001b[39m input_file\u001b[38;5;241m.\u001b[39msamplerate\n",
      "File \u001b[1;32m~\\anaconda3\\envs\\tensorflow\\lib\\site-packages\\audioread\\__init__.py:127\u001b[0m, in \u001b[0;36maudio_open\u001b[1;34m(path, backends)\u001b[0m\n\u001b[0;32m    125\u001b[0m \u001b[38;5;28;01mfor\u001b[39;00m BackendClass \u001b[38;5;129;01min\u001b[39;00m backends:\n\u001b[0;32m    126\u001b[0m     \u001b[38;5;28;01mtry\u001b[39;00m:\n\u001b[1;32m--> 127\u001b[0m         \u001b[38;5;28;01mreturn\u001b[39;00m \u001b[43mBackendClass\u001b[49m\u001b[43m(\u001b[49m\u001b[43mpath\u001b[49m\u001b[43m)\u001b[49m\n\u001b[0;32m    128\u001b[0m     \u001b[38;5;28;01mexcept\u001b[39;00m DecodeError:\n\u001b[0;32m    129\u001b[0m         \u001b[38;5;28;01mpass\u001b[39;00m\n",
      "File \u001b[1;32m~\\anaconda3\\envs\\tensorflow\\lib\\site-packages\\audioread\\rawread.py:59\u001b[0m, in \u001b[0;36mRawAudioFile.__init__\u001b[1;34m(self, filename)\u001b[0m\n\u001b[0;32m     58\u001b[0m \u001b[38;5;28;01mdef\u001b[39;00m \u001b[38;5;21m__init__\u001b[39m(\u001b[38;5;28mself\u001b[39m, filename):\n\u001b[1;32m---> 59\u001b[0m     \u001b[38;5;28mself\u001b[39m\u001b[38;5;241m.\u001b[39m_fh \u001b[38;5;241m=\u001b[39m \u001b[38;5;28;43mopen\u001b[39;49m\u001b[43m(\u001b[49m\u001b[43mfilename\u001b[49m\u001b[43m,\u001b[49m\u001b[43m \u001b[49m\u001b[38;5;124;43m'\u001b[39;49m\u001b[38;5;124;43mrb\u001b[39;49m\u001b[38;5;124;43m'\u001b[39;49m\u001b[43m)\u001b[49m\n\u001b[0;32m     61\u001b[0m     \u001b[38;5;28;01mtry\u001b[39;00m:\n\u001b[0;32m     62\u001b[0m         \u001b[38;5;28mself\u001b[39m\u001b[38;5;241m.\u001b[39m_file \u001b[38;5;241m=\u001b[39m aifc\u001b[38;5;241m.\u001b[39mopen(\u001b[38;5;28mself\u001b[39m\u001b[38;5;241m.\u001b[39m_fh)\n",
      "\u001b[1;31mFileNotFoundError\u001b[0m: [Errno 2] No such file or directory: 'audio_file_path.vav'"
     ]
    }
   ],
   "source": [
    "#ses sinyali okuyalım\n",
    "audio_file_path='audio_file_path.vav' #veriyi eklediğimiz kısım\n",
    "\n",
    "librosa_audio_data, librosa_sample_rate = librosa.load(audio_file_path)"
   ]
  },
  {
   "cell_type": "code",
   "execution_count": null,
   "id": "006347f7",
   "metadata": {},
   "outputs": [],
   "source": [
    "print(librosa_audio_data)"
   ]
  },
  {
   "cell_type": "code",
   "execution_count": null,
   "id": "86796b97",
   "metadata": {},
   "outputs": [],
   "source": [
    "# Librosa ses verilerini çizelim\n",
    "# 1 kanallı orijinal ses\n",
    "plt.figure(figsize=(12, 4))\n",
    "plt.plot(librosa_audio_data)\n",
    "plt.show()"
   ]
  },
  {
   "cell_type": "code",
   "execution_count": null,
   "id": "78fa82ca",
   "metadata": {},
   "outputs": [],
   "source": [
    "#Aslında örneğimiz stereo, scipy kullanarak görebilirsiniz\n",
    "from scipy.io import wavfile as wav\n",
    "wave_sample_rate, wave_audio = wav.read(audio_file_path)"
   ]
  },
  {
   "cell_type": "code",
   "execution_count": null,
   "id": "1d4ccbb6",
   "metadata": {},
   "outputs": [],
   "source": [
    "wave_audio"
   ]
  },
  {
   "cell_type": "code",
   "execution_count": null,
   "id": "2ab438e5",
   "metadata": {},
   "outputs": [],
   "source": [
    "# 2 kanallı orijinal ses ve görselleştirme işlemi\n",
    "plt.figure(figsize=(12, 4))\n",
    "plt.plot(wave_audio)\n",
    "plt.show()"
   ]
  },
  {
   "cell_type": "code",
   "execution_count": null,
   "id": "7c00a7fd",
   "metadata": {},
   "outputs": [],
   "source": [
    "# çıktılarda gözüken gibi mavi kısımlar içerisindeki farklı ses blokları temsil eder."
   ]
  },
  {
   "cell_type": "markdown",
   "id": "71aea752",
   "metadata": {},
   "source": [
    "ÖZELLİK ÇIKARIMI"
   ]
  },
  {
   "cell_type": "markdown",
   "id": "663780d2",
   "metadata": {},
   "source": [
    "Burada ses örneklerinden Mel-Frekans Cepstral Katsayılarını (MFCC) kullanacağız. MFCC, pencere boyutu boyunca frekans dağılımını özetler, böylece sesin hem frekansını hem de zaman özelliklerini analiz etmek mümkündür. Bu sesli temsiller, sınıflandırma için özellikleri tanımlamamıza izin verecektir."
   ]
  },
  {
   "cell_type": "code",
   "execution_count": null,
   "id": "31077178",
   "metadata": {},
   "outputs": [],
   "source": [
    "#n_mfcc: number of MFCCs to return \n",
    "mfccs = librosa.feature.mfcc(y=librosa_audio_data, sr=librosa_sample_rate, n_mfcc=40)   \n",
    "print(mfccs.shape)"
   ]
  },
  {
   "cell_type": "code",
   "execution_count": null,
   "id": "ed7cb361",
   "metadata": {},
   "outputs": [],
   "source": [
    "mfccs"
   ]
  },
  {
   "cell_type": "code",
   "execution_count": null,
   "id": "622bf9fb",
   "metadata": {},
   "outputs": [],
   "source": [
    "#Veri kümesindeki her ses dosyası için MFCC'leri çıkaracağız.\n",
    "\n",
    "audio_dataset_path='audio_dataset_path' #audio ses dosyalarının olduğu yol\n",
    "metadata=pd.read_csv('cvs_path') #csv yolu\n",
    "metadata.head()"
   ]
  },
  {
   "cell_type": "code",
   "execution_count": null,
   "id": "9f47ef33",
   "metadata": {},
   "outputs": [],
   "source": [
    "def features_extractor(filename):\n",
    "    audio, sample_rate = librosa.load(filename, res_type='kaiser_fast') \n",
    "    mfccs_features = librosa.feature.mfcc(y=audio, sr=sample_rate, n_mfcc=40)\n",
    "    mfccs_scaled_features = np.mean(mfccs_features.T,axis=0)\n",
    "    \n",
    "    return mfccs_scaled_features"
   ]
  },
  {
   "cell_type": "code",
   "execution_count": null,
   "id": "c7d552cf",
   "metadata": {},
   "outputs": [],
   "source": [
    "# Şimdi her bir ses dosyasını tekrarlıyoruz ve özellikleri ayıklıyoruz \n",
    "# Mel-Frekans Cepstral Katsayılarını kullanarak\n",
    "extracted_features=[]\n",
    "for index_num,row in tqdm(metadata.iterrows()):\n",
    "    file_name = os.path.join(os.path.abspath(audio_dataset_path),'fold'+str(row[\"fold\"])+'/',str(row[\"slice_file_name\"]))\n",
    "    final_class_labels=row[\"class\"]\n",
    "    data=features_extractor(file_name)\n",
    "    extracted_features.append([data,final_class_labels])"
   ]
  },
  {
   "cell_type": "code",
   "execution_count": 21,
   "id": "95ade110",
   "metadata": {},
   "outputs": [
    {
     "data": {
      "text/html": [
       "<div>\n",
       "<style scoped>\n",
       "    .dataframe tbody tr th:only-of-type {\n",
       "        vertical-align: middle;\n",
       "    }\n",
       "\n",
       "    .dataframe tbody tr th {\n",
       "        vertical-align: top;\n",
       "    }\n",
       "\n",
       "    .dataframe thead th {\n",
       "        text-align: right;\n",
       "    }\n",
       "</style>\n",
       "<table border=\"1\" class=\"dataframe\">\n",
       "  <thead>\n",
       "    <tr style=\"text-align: right;\">\n",
       "      <th></th>\n",
       "      <th>feature</th>\n",
       "      <th>class</th>\n",
       "    </tr>\n",
       "  </thead>\n",
       "  <tbody>\n",
       "    <tr>\n",
       "      <th>0</th>\n",
       "      <td>[-217.35526, 70.22338, -130.38527, -53.282898,...</td>\n",
       "      <td>dog_bark</td>\n",
       "    </tr>\n",
       "    <tr>\n",
       "      <th>1</th>\n",
       "      <td>[-424.09818, 109.34077, -52.919525, 60.86475, ...</td>\n",
       "      <td>children_playing</td>\n",
       "    </tr>\n",
       "    <tr>\n",
       "      <th>2</th>\n",
       "      <td>[-458.79114, 121.38419, -46.520657, 52.00812, ...</td>\n",
       "      <td>children_playing</td>\n",
       "    </tr>\n",
       "    <tr>\n",
       "      <th>3</th>\n",
       "      <td>[-413.89984, 101.66373, -35.42945, 53.036358, ...</td>\n",
       "      <td>children_playing</td>\n",
       "    </tr>\n",
       "    <tr>\n",
       "      <th>4</th>\n",
       "      <td>[-446.60352, 113.68541, -52.402206, 60.302044,...</td>\n",
       "      <td>children_playing</td>\n",
       "    </tr>\n",
       "  </tbody>\n",
       "</table>\n",
       "</div>"
      ],
      "text/plain": [
       "                                             feature             class\n",
       "0  [-217.35526, 70.22338, -130.38527, -53.282898,...          dog_bark\n",
       "1  [-424.09818, 109.34077, -52.919525, 60.86475, ...  children_playing\n",
       "2  [-458.79114, 121.38419, -46.520657, 52.00812, ...  children_playing\n",
       "3  [-413.89984, 101.66373, -35.42945, 53.036358, ...  children_playing\n",
       "4  [-446.60352, 113.68541, -52.402206, 60.302044,...  children_playing"
      ]
     },
     "execution_count": 21,
     "metadata": {},
     "output_type": "execute_result"
    }
   ],
   "source": [
    "# Öznitelik çıkarım'ı Pandas veri çerçevesine dönüştüreceğiz\n",
    "extracted_features_df = pd.DataFrame(extracted_features,columns=['feature','class'])\n",
    "extracted_features_df.head()"
   ]
  },
  {
   "cell_type": "code",
   "execution_count": 22,
   "id": "c95423f6",
   "metadata": {},
   "outputs": [],
   "source": [
    "# Daha sonra veri setini bağımsız ve bağımlı veri setine ayırdık\n",
    "X=np.array(extracted_features_df['feature'].tolist())\n",
    "y=np.array(extracted_features_df['class'].tolist())"
   ]
  },
  {
   "cell_type": "code",
   "execution_count": 23,
   "id": "845f84c2",
   "metadata": {},
   "outputs": [
    {
     "data": {
      "text/plain": [
       "(8732, 40)"
      ]
     },
     "execution_count": 23,
     "metadata": {},
     "output_type": "execute_result"
    }
   ],
   "source": [
    "X.shape"
   ]
  },
  {
   "cell_type": "code",
   "execution_count": 24,
   "id": "e13c45a8",
   "metadata": {},
   "outputs": [
    {
     "data": {
      "text/plain": [
       "array([[-2.1735526e+02,  7.0223381e+01, -1.3038527e+02, ...,\n",
       "        -1.6930529e+00, -6.1698377e-01,  3.8600534e-01],\n",
       "       [-4.2409818e+02,  1.0934077e+02, -5.2919525e+01, ...,\n",
       "         5.3489321e-01, -5.4468721e-01,  4.4632095e-01],\n",
       "       [-4.5879114e+02,  1.2138419e+02, -4.6520657e+01, ...,\n",
       "         2.0768483e+00,  1.6962965e+00, -9.6140957e-01],\n",
       "       ...,\n",
       "       [-3.0388824e+02,  1.1135945e+02, -4.5941563e+01, ...,\n",
       "        -3.0292380e+00,  2.7170298e+00,  7.6197419e+00],\n",
       "       [-3.4411008e+02,  1.2545021e+02, -5.4903442e+01, ...,\n",
       "        -7.9082437e+00, -1.6414586e+00,  5.6668444e+00],\n",
       "       [-3.1560281e+02,  9.4854805e+01, -3.7222340e+01, ...,\n",
       "         6.1386454e-01, -1.1449189e+01, -6.0105853e+00]], dtype=float32)"
      ]
     },
     "execution_count": 24,
     "metadata": {},
     "output_type": "execute_result"
    }
   ],
   "source": [
    "y.shape"
   ]
  },
  {
   "cell_type": "code",
   "execution_count": 25,
   "id": "3b48b60d",
   "metadata": {},
   "outputs": [],
   "source": [
    "# Modelimizde (1'ler ve 0'lar) çıktı sınıfları için bir sıcak kodlanmış değere ihtiyacımız olduğundan, Etiket Kodlaması yapmalıyız.\n",
    "\n",
    "labelencoder=LabelEncoder()\n",
    "y=to_categorical(labelencoder.fit_transform(y))"
   ]
  },
  {
   "cell_type": "code",
   "execution_count": 26,
   "id": "6a875b50",
   "metadata": {},
   "outputs": [
    {
     "data": {
      "text/plain": [
       "array([0., 0., 0., 1., 0., 0., 0., 0., 0., 0.], dtype=float32)"
      ]
     },
     "execution_count": 26,
     "metadata": {},
     "output_type": "execute_result"
    }
   ],
   "source": [
    "y[0]"
   ]
  },
  {
   "cell_type": "code",
   "execution_count": 27,
   "id": "9b46f975",
   "metadata": {},
   "outputs": [],
   "source": [
    "# Veri setini Train and Test olarak ayırdık\n",
    "\n",
    "X_train,X_test,y_train,y_test=train_test_split(X,y,test_size=0.2,random_state=0)"
   ]
  },
  {
   "cell_type": "code",
   "execution_count": 28,
   "id": "99cbc162",
   "metadata": {},
   "outputs": [
    {
     "data": {
      "text/plain": [
       "array([[-1.31104706e+02,  1.12505905e+02, -2.25746956e+01, ...,\n",
       "         3.24665213e+00, -1.36902380e+00,  2.75575471e+00],\n",
       "       [-1.36703424e+01,  9.10850830e+01, -7.79273319e+00, ...,\n",
       "        -3.25305080e+00, -5.27745247e+00, -1.55697179e+00],\n",
       "       [-4.98715439e+01,  2.65352994e-01, -2.05009365e+01, ...,\n",
       "         2.85459447e+00, -1.60920465e+00,  3.52480578e+00],\n",
       "       ...,\n",
       "       [-4.27012360e+02,  9.26230469e+01,  3.12939739e+00, ...,\n",
       "         7.42641389e-01,  7.33490944e-01,  7.11009085e-01],\n",
       "       [-1.45754608e+02,  1.36265778e+02, -3.35155182e+01, ...,\n",
       "         1.46811950e+00, -2.00917006e+00, -8.82181883e-01],\n",
       "       [-4.21031342e+02,  2.10654541e+02,  3.49066067e+00, ...,\n",
       "        -5.38886738e+00, -3.37136054e+00, -1.56651151e+00]], dtype=float32)"
      ]
     },
     "execution_count": 28,
     "metadata": {},
     "output_type": "execute_result"
    }
   ],
   "source": [
    "X_train"
   ]
  },
  {
   "cell_type": "code",
   "execution_count": 29,
   "id": "8fa1147d",
   "metadata": {},
   "outputs": [
    {
     "data": {
      "text/plain": [
       "array([[0., 0., 0., ..., 0., 0., 0.],\n",
       "       [0., 0., 1., ..., 0., 0., 0.],\n",
       "       [0., 0., 1., ..., 0., 0., 0.],\n",
       "       ...,\n",
       "       [0., 1., 0., ..., 0., 0., 0.],\n",
       "       [0., 1., 0., ..., 0., 0., 0.],\n",
       "       [0., 1., 0., ..., 0., 0., 0.]], dtype=float32)"
      ]
     },
     "execution_count": 29,
     "metadata": {},
     "output_type": "execute_result"
    }
   ],
   "source": [
    "y"
   ]
  },
  {
   "cell_type": "code",
   "execution_count": 30,
   "id": "ebb89aff",
   "metadata": {},
   "outputs": [
    {
     "data": {
      "text/plain": [
       "(6985, 40)"
      ]
     },
     "execution_count": 30,
     "metadata": {},
     "output_type": "execute_result"
    }
   ],
   "source": [
    "X_train.shape"
   ]
  },
  {
   "cell_type": "code",
   "execution_count": 31,
   "id": "e0e1fa07",
   "metadata": {},
   "outputs": [
    {
     "data": {
      "text/plain": [
       "(1747, 40)"
      ]
     },
     "execution_count": 31,
     "metadata": {},
     "output_type": "execute_result"
    }
   ],
   "source": [
    "X_test.shape"
   ]
  },
  {
   "cell_type": "code",
   "execution_count": 32,
   "id": "082d14d9",
   "metadata": {},
   "outputs": [
    {
     "data": {
      "text/plain": [
       "(6985, 10)"
      ]
     },
     "execution_count": 32,
     "metadata": {},
     "output_type": "execute_result"
    }
   ],
   "source": [
    "y_train.shape"
   ]
  },
  {
   "cell_type": "code",
   "execution_count": 33,
   "id": "88b67885",
   "metadata": {},
   "outputs": [
    {
     "data": {
      "text/plain": [
       "(1747, 10)"
      ]
     },
     "execution_count": 33,
     "metadata": {},
     "output_type": "execute_result"
    }
   ],
   "source": [
    "y_test.shape"
   ]
  },
  {
   "cell_type": "markdown",
   "id": "7f33bb53",
   "metadata": {},
   "source": [
    "Evrişimli Sinir Ağları (CNN) Modeli Oluşturma ve Modelimizi Veri Kümesi ile Eğitme."
   ]
  },
  {
   "cell_type": "code",
   "execution_count": 34,
   "id": "81adb366",
   "metadata": {},
   "outputs": [],
   "source": [
    "# Kaç sınıfımız var? Onu kendi modelimizde kullanmalıyız.\n",
    "num_labels = 10"
   ]
  },
  {
   "cell_type": "code",
   "execution_count": 35,
   "id": "b50eabb5",
   "metadata": {},
   "outputs": [],
   "source": [
    "# CNN modelimiz\n",
    "\n",
    "model=Sequential()\n",
    "# 1. hidden layer\n",
    "model.add(Dense(125,input_shape=(40,)))\n",
    "model.add(Activation('relu'))\n",
    "model.add(Dropout(0.5))\n",
    "# 2. hidden layer\n",
    "model.add(Dense(250))\n",
    "model.add(Activation('relu'))\n",
    "model.add(Dropout(0.5))\n",
    "# 3. hidden layer\n",
    "model.add(Dense(125))\n",
    "model.add(Activation('relu'))\n",
    "model.add(Dropout(0.5))\n",
    "\n",
    "# output layer\n",
    "model.add(Dense(num_labels))\n",
    "model.add(Activation('softmax'))"
   ]
  },
  {
   "cell_type": "code",
   "execution_count": 36,
   "id": "509bdd67",
   "metadata": {},
   "outputs": [
    {
     "name": "stdout",
     "output_type": "stream",
     "text": [
      "Model: \"sequential\"\n",
      "_________________________________________________________________\n",
      " Layer (type)                Output Shape              Param #   \n",
      "=================================================================\n",
      " dense (Dense)               (None, 125)               5125      \n",
      "                                                                 \n",
      " activation (Activation)     (None, 125)               0         \n",
      "                                                                 \n",
      " dropout (Dropout)           (None, 125)               0         \n",
      "                                                                 \n",
      " dense_1 (Dense)             (None, 250)               31500     \n",
      "                                                                 \n",
      " activation_1 (Activation)   (None, 250)               0         \n",
      "                                                                 \n",
      " dropout_1 (Dropout)         (None, 250)               0         \n",
      "                                                                 \n",
      " dense_2 (Dense)             (None, 125)               31375     \n",
      "                                                                 \n",
      " activation_2 (Activation)   (None, 125)               0         \n",
      "                                                                 \n",
      " dropout_2 (Dropout)         (None, 125)               0         \n",
      "                                                                 \n",
      " dense_3 (Dense)             (None, 10)                1260      \n",
      "                                                                 \n",
      " activation_3 (Activation)   (None, 10)                0         \n",
      "                                                                 \n",
      "=================================================================\n",
      "Total params: 69,260\n",
      "Trainable params: 69,260\n",
      "Non-trainable params: 0\n",
      "_________________________________________________________________\n"
     ]
    }
   ],
   "source": [
    "model.summary()"
   ]
  },
  {
   "cell_type": "code",
   "execution_count": 37,
   "id": "8725d56a",
   "metadata": {},
   "outputs": [],
   "source": [
    "model.compile(loss='categorical_crossentropy', metrics=['accuracy'], optimizer='adam')"
   ]
  },
  {
   "cell_type": "code",
   "execution_count": 38,
   "id": "9528bc4d",
   "metadata": {},
   "outputs": [
    {
     "name": "stdout",
     "output_type": "stream",
     "text": [
      "Epoch 1/300\n",
      "219/219 [==============================] - 1s 4ms/step - loss: 10.2766 - accuracy: 0.1223 - val_loss: 2.2934 - val_accuracy: 0.1185\n",
      "Epoch 2/300\n",
      "219/219 [==============================] - 1s 3ms/step - loss: 2.4814 - accuracy: 0.1165 - val_loss: 2.2828 - val_accuracy: 0.1162\n",
      "Epoch 3/300\n",
      "219/219 [==============================] - 1s 3ms/step - loss: 2.3235 - accuracy: 0.1162 - val_loss: 2.2577 - val_accuracy: 0.1339\n",
      "Epoch 4/300\n",
      "219/219 [==============================] - 1s 3ms/step - loss: 2.2593 - accuracy: 0.1373 - val_loss: 2.2001 - val_accuracy: 0.1740\n",
      "Epoch 5/300\n",
      "219/219 [==============================] - 1s 2ms/step - loss: 2.2340 - accuracy: 0.1589 - val_loss: 2.1640 - val_accuracy: 0.1797\n",
      "Epoch 6/300\n",
      "219/219 [==============================] - 1s 2ms/step - loss: 2.1914 - accuracy: 0.1702 - val_loss: 2.0908 - val_accuracy: 0.2473\n",
      "Epoch 7/300\n",
      "219/219 [==============================] - 1s 2ms/step - loss: 2.1437 - accuracy: 0.1951 - val_loss: 1.9672 - val_accuracy: 0.2753\n",
      "Epoch 8/300\n",
      "219/219 [==============================] - 1s 2ms/step - loss: 2.0759 - accuracy: 0.2261 - val_loss: 1.9209 - val_accuracy: 0.2999\n",
      "Epoch 9/300\n",
      "219/219 [==============================] - 1s 2ms/step - loss: 2.0363 - accuracy: 0.2457 - val_loss: 1.8735 - val_accuracy: 0.3394\n",
      "Epoch 10/300\n",
      "219/219 [==============================] - 1s 2ms/step - loss: 2.0067 - accuracy: 0.2614 - val_loss: 1.8427 - val_accuracy: 0.3503\n",
      "Epoch 11/300\n",
      "219/219 [==============================] - 1s 2ms/step - loss: 1.9588 - accuracy: 0.2840 - val_loss: 1.7495 - val_accuracy: 0.3818\n",
      "Epoch 12/300\n",
      "219/219 [==============================] - 1s 2ms/step - loss: 1.9013 - accuracy: 0.3064 - val_loss: 1.7225 - val_accuracy: 0.4184\n",
      "Epoch 13/300\n",
      "219/219 [==============================] - 1s 3ms/step - loss: 1.8261 - accuracy: 0.3407 - val_loss: 1.5846 - val_accuracy: 0.4556\n",
      "Epoch 14/300\n",
      "219/219 [==============================] - 1s 3ms/step - loss: 1.7429 - accuracy: 0.3685 - val_loss: 1.5267 - val_accuracy: 0.4997\n",
      "Epoch 15/300\n",
      "219/219 [==============================] - 1s 3ms/step - loss: 1.6764 - accuracy: 0.3917 - val_loss: 1.4519 - val_accuracy: 0.5169\n",
      "Epoch 16/300\n",
      "219/219 [==============================] - 1s 3ms/step - loss: 1.6292 - accuracy: 0.4235 - val_loss: 1.4320 - val_accuracy: 0.5100\n",
      "Epoch 17/300\n",
      "219/219 [==============================] - 1s 3ms/step - loss: 1.6198 - accuracy: 0.4228 - val_loss: 1.3708 - val_accuracy: 0.5352\n",
      "Epoch 18/300\n",
      "219/219 [==============================] - 1s 3ms/step - loss: 1.5512 - accuracy: 0.4498 - val_loss: 1.3604 - val_accuracy: 0.5701\n",
      "Epoch 19/300\n",
      "219/219 [==============================] - 1s 2ms/step - loss: 1.5207 - accuracy: 0.4660 - val_loss: 1.3219 - val_accuracy: 0.5758\n",
      "Epoch 20/300\n",
      "219/219 [==============================] - 1s 2ms/step - loss: 1.5080 - accuracy: 0.4747 - val_loss: 1.2660 - val_accuracy: 0.5965\n",
      "Epoch 21/300\n",
      "219/219 [==============================] - 1s 2ms/step - loss: 1.4508 - accuracy: 0.4952 - val_loss: 1.2390 - val_accuracy: 0.6096\n",
      "Epoch 22/300\n",
      "219/219 [==============================] - 1s 2ms/step - loss: 1.4308 - accuracy: 0.5111 - val_loss: 1.2216 - val_accuracy: 0.6182\n",
      "Epoch 23/300\n",
      "219/219 [==============================] - 1s 2ms/step - loss: 1.4237 - accuracy: 0.5165 - val_loss: 1.1989 - val_accuracy: 0.6108\n",
      "Epoch 24/300\n",
      "219/219 [==============================] - 1s 2ms/step - loss: 1.3812 - accuracy: 0.5213 - val_loss: 1.1607 - val_accuracy: 0.6262\n",
      "Epoch 25/300\n",
      "219/219 [==============================] - 1s 2ms/step - loss: 1.3297 - accuracy: 0.5479 - val_loss: 1.1247 - val_accuracy: 0.6445\n",
      "Epoch 26/300\n",
      "219/219 [==============================] - 1s 2ms/step - loss: 1.2894 - accuracy: 0.5550 - val_loss: 1.1003 - val_accuracy: 0.6463\n",
      "Epoch 27/300\n",
      "219/219 [==============================] - 1s 2ms/step - loss: 1.3132 - accuracy: 0.5470 - val_loss: 1.1320 - val_accuracy: 0.6445\n",
      "Epoch 28/300\n",
      "219/219 [==============================] - 1s 2ms/step - loss: 1.2749 - accuracy: 0.5679 - val_loss: 1.0753 - val_accuracy: 0.6577\n",
      "Epoch 29/300\n",
      "219/219 [==============================] - 1s 2ms/step - loss: 1.2725 - accuracy: 0.5689 - val_loss: 1.0479 - val_accuracy: 0.6726\n",
      "Epoch 30/300\n",
      "219/219 [==============================] - 1s 2ms/step - loss: 1.2448 - accuracy: 0.5701 - val_loss: 1.0369 - val_accuracy: 0.6640\n",
      "Epoch 31/300\n",
      "219/219 [==============================] - 1s 2ms/step - loss: 1.2381 - accuracy: 0.5790 - val_loss: 1.0126 - val_accuracy: 0.6766\n",
      "Epoch 32/300\n",
      "219/219 [==============================] - 1s 2ms/step - loss: 1.2188 - accuracy: 0.5867 - val_loss: 1.0030 - val_accuracy: 0.6880\n",
      "Epoch 33/300\n",
      "219/219 [==============================] - 1s 2ms/step - loss: 1.1866 - accuracy: 0.6003 - val_loss: 0.9978 - val_accuracy: 0.6760\n",
      "Epoch 34/300\n",
      "219/219 [==============================] - 1s 2ms/step - loss: 1.1979 - accuracy: 0.5927 - val_loss: 0.9868 - val_accuracy: 0.6949\n",
      "Epoch 35/300\n",
      "219/219 [==============================] - 1s 2ms/step - loss: 1.1670 - accuracy: 0.5977 - val_loss: 0.9914 - val_accuracy: 0.6846\n",
      "Epoch 36/300\n",
      "219/219 [==============================] - 1s 2ms/step - loss: 1.1757 - accuracy: 0.6011 - val_loss: 0.9874 - val_accuracy: 0.6823\n",
      "Epoch 37/300\n",
      "219/219 [==============================] - 1s 2ms/step - loss: 1.1640 - accuracy: 0.6094 - val_loss: 0.9427 - val_accuracy: 0.6806\n",
      "Epoch 38/300\n",
      "219/219 [==============================] - 1s 2ms/step - loss: 1.1606 - accuracy: 0.6063 - val_loss: 0.9463 - val_accuracy: 0.7064\n",
      "Epoch 39/300\n",
      "219/219 [==============================] - 1s 2ms/step - loss: 1.1388 - accuracy: 0.6179 - val_loss: 0.9127 - val_accuracy: 0.7029\n",
      "Epoch 40/300\n",
      "219/219 [==============================] - 1s 2ms/step - loss: 1.1109 - accuracy: 0.6299 - val_loss: 0.9113 - val_accuracy: 0.7127\n",
      "Epoch 41/300\n",
      "219/219 [==============================] - 1s 2ms/step - loss: 1.1185 - accuracy: 0.6249 - val_loss: 0.9309 - val_accuracy: 0.6915\n",
      "Epoch 42/300\n",
      "219/219 [==============================] - 1s 3ms/step - loss: 1.0974 - accuracy: 0.6318 - val_loss: 0.9054 - val_accuracy: 0.7018\n",
      "Epoch 43/300\n",
      "219/219 [==============================] - 1s 3ms/step - loss: 1.1045 - accuracy: 0.6298 - val_loss: 0.9208 - val_accuracy: 0.7132\n",
      "Epoch 44/300\n",
      "219/219 [==============================] - 1s 3ms/step - loss: 1.0851 - accuracy: 0.6397 - val_loss: 0.8944 - val_accuracy: 0.7167\n",
      "Epoch 45/300\n",
      "219/219 [==============================] - 1s 3ms/step - loss: 1.0594 - accuracy: 0.6460 - val_loss: 0.9187 - val_accuracy: 0.7132\n",
      "Epoch 46/300\n",
      "219/219 [==============================] - 1s 3ms/step - loss: 1.0840 - accuracy: 0.6379 - val_loss: 0.8938 - val_accuracy: 0.7086\n",
      "Epoch 47/300\n",
      "219/219 [==============================] - 1s 3ms/step - loss: 1.0677 - accuracy: 0.6332 - val_loss: 0.8972 - val_accuracy: 0.7121\n",
      "Epoch 48/300\n",
      "219/219 [==============================] - 1s 3ms/step - loss: 1.0790 - accuracy: 0.6397 - val_loss: 0.8489 - val_accuracy: 0.7241\n",
      "Epoch 49/300\n",
      "219/219 [==============================] - 1s 3ms/step - loss: 1.0361 - accuracy: 0.6587 - val_loss: 0.8571 - val_accuracy: 0.7333\n",
      "Epoch 50/300\n",
      "219/219 [==============================] - 1s 3ms/step - loss: 1.0519 - accuracy: 0.6517 - val_loss: 0.8502 - val_accuracy: 0.7361\n",
      "Epoch 51/300\n",
      "219/219 [==============================] - 1s 3ms/step - loss: 1.0386 - accuracy: 0.6537 - val_loss: 0.8461 - val_accuracy: 0.7333\n",
      "Epoch 52/300\n",
      "219/219 [==============================] - 1s 3ms/step - loss: 1.0523 - accuracy: 0.6520 - val_loss: 0.8573 - val_accuracy: 0.7321\n",
      "Epoch 53/300\n",
      "219/219 [==============================] - 1s 3ms/step - loss: 1.0202 - accuracy: 0.6607 - val_loss: 0.8337 - val_accuracy: 0.7373\n",
      "Epoch 54/300\n",
      "219/219 [==============================] - 1s 3ms/step - loss: 1.0172 - accuracy: 0.6620 - val_loss: 0.8423 - val_accuracy: 0.7361\n",
      "Epoch 55/300\n",
      "219/219 [==============================] - 1s 2ms/step - loss: 1.0156 - accuracy: 0.6623 - val_loss: 0.8408 - val_accuracy: 0.7298\n",
      "Epoch 56/300\n",
      "219/219 [==============================] - 1s 3ms/step - loss: 0.9880 - accuracy: 0.6719 - val_loss: 0.8436 - val_accuracy: 0.7264\n",
      "Epoch 57/300\n",
      "219/219 [==============================] - 1s 3ms/step - loss: 1.0140 - accuracy: 0.6627 - val_loss: 0.8046 - val_accuracy: 0.7544\n"
     ]
    },
    {
     "name": "stdout",
     "output_type": "stream",
     "text": [
      "Epoch 58/300\n",
      "219/219 [==============================] - 1s 3ms/step - loss: 1.0110 - accuracy: 0.6639 - val_loss: 0.8261 - val_accuracy: 0.7539\n",
      "Epoch 59/300\n",
      "219/219 [==============================] - 1s 3ms/step - loss: 0.9909 - accuracy: 0.6659 - val_loss: 0.8310 - val_accuracy: 0.7510\n",
      "Epoch 60/300\n",
      "219/219 [==============================] - 1s 3ms/step - loss: 0.9879 - accuracy: 0.6737 - val_loss: 0.8021 - val_accuracy: 0.7401\n",
      "Epoch 61/300\n",
      "219/219 [==============================] - 1s 3ms/step - loss: 0.9971 - accuracy: 0.6743 - val_loss: 0.8218 - val_accuracy: 0.7441\n",
      "Epoch 62/300\n",
      "219/219 [==============================] - 1s 3ms/step - loss: 0.9992 - accuracy: 0.6729 - val_loss: 0.8189 - val_accuracy: 0.7436\n",
      "Epoch 63/300\n",
      "219/219 [==============================] - 1s 3ms/step - loss: 0.9943 - accuracy: 0.6684 - val_loss: 0.8265 - val_accuracy: 0.7390\n",
      "Epoch 64/300\n",
      "219/219 [==============================] - 1s 3ms/step - loss: 0.9824 - accuracy: 0.6690 - val_loss: 0.8087 - val_accuracy: 0.7510\n",
      "Epoch 65/300\n",
      "219/219 [==============================] - 1s 3ms/step - loss: 0.9595 - accuracy: 0.6763 - val_loss: 0.7950 - val_accuracy: 0.7521\n",
      "Epoch 66/300\n",
      "219/219 [==============================] - 1s 3ms/step - loss: 0.9792 - accuracy: 0.6812 - val_loss: 0.8179 - val_accuracy: 0.7401\n",
      "Epoch 67/300\n",
      "219/219 [==============================] - 1s 3ms/step - loss: 0.9599 - accuracy: 0.6779 - val_loss: 0.7836 - val_accuracy: 0.7619\n",
      "Epoch 68/300\n",
      "219/219 [==============================] - 1s 3ms/step - loss: 0.9618 - accuracy: 0.6853 - val_loss: 0.7780 - val_accuracy: 0.7510\n",
      "Epoch 69/300\n",
      "219/219 [==============================] - 1s 3ms/step - loss: 0.9461 - accuracy: 0.6865 - val_loss: 0.7840 - val_accuracy: 0.7504\n",
      "Epoch 70/300\n",
      "219/219 [==============================] - 1s 3ms/step - loss: 0.9742 - accuracy: 0.6842 - val_loss: 0.7912 - val_accuracy: 0.7413\n",
      "Epoch 71/300\n",
      "219/219 [==============================] - 1s 3ms/step - loss: 0.9714 - accuracy: 0.6827 - val_loss: 0.7709 - val_accuracy: 0.7659\n",
      "Epoch 72/300\n",
      "219/219 [==============================] - 1s 3ms/step - loss: 0.9381 - accuracy: 0.6890 - val_loss: 0.7612 - val_accuracy: 0.7613\n",
      "Epoch 73/300\n",
      "219/219 [==============================] - 1s 3ms/step - loss: 0.9629 - accuracy: 0.6823 - val_loss: 0.7746 - val_accuracy: 0.7470\n",
      "Epoch 74/300\n",
      "219/219 [==============================] - 1s 3ms/step - loss: 0.9473 - accuracy: 0.6802 - val_loss: 0.7882 - val_accuracy: 0.7504\n",
      "Epoch 75/300\n",
      "219/219 [==============================] - 1s 3ms/step - loss: 0.9430 - accuracy: 0.6853 - val_loss: 0.7674 - val_accuracy: 0.7579\n",
      "Epoch 76/300\n",
      "219/219 [==============================] - 1s 3ms/step - loss: 0.9409 - accuracy: 0.6827 - val_loss: 0.7728 - val_accuracy: 0.7624\n",
      "Epoch 77/300\n",
      "219/219 [==============================] - 1s 3ms/step - loss: 0.9388 - accuracy: 0.6858 - val_loss: 0.7593 - val_accuracy: 0.7596\n",
      "Epoch 78/300\n",
      "219/219 [==============================] - 1s 3ms/step - loss: 0.9447 - accuracy: 0.6878 - val_loss: 0.7409 - val_accuracy: 0.7710\n",
      "Epoch 79/300\n",
      "219/219 [==============================] - 1s 3ms/step - loss: 0.9445 - accuracy: 0.6822 - val_loss: 0.7540 - val_accuracy: 0.7602\n",
      "Epoch 80/300\n",
      "219/219 [==============================] - 1s 3ms/step - loss: 0.9471 - accuracy: 0.6889 - val_loss: 0.7650 - val_accuracy: 0.7584\n",
      "Epoch 81/300\n",
      "219/219 [==============================] - 1s 2ms/step - loss: 0.9489 - accuracy: 0.6827 - val_loss: 0.7825 - val_accuracy: 0.7607\n",
      "Epoch 82/300\n",
      "219/219 [==============================] - 1s 3ms/step - loss: 0.9400 - accuracy: 0.6939 - val_loss: 0.7738 - val_accuracy: 0.7504\n",
      "Epoch 83/300\n",
      "219/219 [==============================] - 1s 3ms/step - loss: 0.9021 - accuracy: 0.7014 - val_loss: 0.7652 - val_accuracy: 0.7521\n",
      "Epoch 84/300\n",
      "219/219 [==============================] - 1s 3ms/step - loss: 0.9377 - accuracy: 0.6902 - val_loss: 0.7406 - val_accuracy: 0.7619\n",
      "Epoch 85/300\n",
      "219/219 [==============================] - 1s 3ms/step - loss: 0.9244 - accuracy: 0.6955 - val_loss: 0.7509 - val_accuracy: 0.7630\n",
      "Epoch 86/300\n",
      "219/219 [==============================] - 1s 3ms/step - loss: 0.9207 - accuracy: 0.7009 - val_loss: 0.7511 - val_accuracy: 0.7533\n",
      "Epoch 87/300\n",
      "219/219 [==============================] - 1s 3ms/step - loss: 0.9199 - accuracy: 0.6893 - val_loss: 0.7331 - val_accuracy: 0.7659\n",
      "Epoch 88/300\n",
      "219/219 [==============================] - 1s 3ms/step - loss: 0.9095 - accuracy: 0.6945 - val_loss: 0.7401 - val_accuracy: 0.7613\n",
      "Epoch 89/300\n",
      "219/219 [==============================] - 1s 3ms/step - loss: 0.9186 - accuracy: 0.6943 - val_loss: 0.7433 - val_accuracy: 0.7716\n",
      "Epoch 90/300\n",
      "219/219 [==============================] - 1s 3ms/step - loss: 0.9141 - accuracy: 0.6995 - val_loss: 0.7651 - val_accuracy: 0.7590\n",
      "Epoch 91/300\n",
      "219/219 [==============================] - 1s 3ms/step - loss: 0.9144 - accuracy: 0.7032 - val_loss: 0.7672 - val_accuracy: 0.7642\n",
      "Epoch 92/300\n",
      "219/219 [==============================] - 1s 2ms/step - loss: 0.9262 - accuracy: 0.6938 - val_loss: 0.7267 - val_accuracy: 0.7768\n",
      "Epoch 93/300\n",
      "219/219 [==============================] - 1s 3ms/step - loss: 0.9192 - accuracy: 0.6981 - val_loss: 0.7569 - val_accuracy: 0.7647\n",
      "Epoch 94/300\n",
      "219/219 [==============================] - 1s 3ms/step - loss: 0.8908 - accuracy: 0.7061 - val_loss: 0.7192 - val_accuracy: 0.7768\n",
      "Epoch 95/300\n",
      "219/219 [==============================] - 1s 3ms/step - loss: 0.9132 - accuracy: 0.6999 - val_loss: 0.7311 - val_accuracy: 0.7756\n",
      "Epoch 96/300\n",
      "219/219 [==============================] - 1s 3ms/step - loss: 0.9247 - accuracy: 0.7009 - val_loss: 0.7450 - val_accuracy: 0.7682\n",
      "Epoch 97/300\n",
      "219/219 [==============================] - 1s 3ms/step - loss: 0.8997 - accuracy: 0.7028 - val_loss: 0.7335 - val_accuracy: 0.7739\n",
      "Epoch 98/300\n",
      "219/219 [==============================] - 1s 3ms/step - loss: 0.9019 - accuracy: 0.7047 - val_loss: 0.7389 - val_accuracy: 0.7653\n",
      "Epoch 99/300\n",
      "219/219 [==============================] - 1s 3ms/step - loss: 0.9046 - accuracy: 0.7068 - val_loss: 0.7296 - val_accuracy: 0.7728\n",
      "Epoch 100/300\n",
      "219/219 [==============================] - 1s 3ms/step - loss: 0.8825 - accuracy: 0.7047 - val_loss: 0.7414 - val_accuracy: 0.7739\n",
      "Epoch 101/300\n",
      "219/219 [==============================] - 1s 3ms/step - loss: 0.8880 - accuracy: 0.7081 - val_loss: 0.7302 - val_accuracy: 0.7728\n",
      "Epoch 102/300\n",
      "219/219 [==============================] - 1s 3ms/step - loss: 0.8986 - accuracy: 0.7009 - val_loss: 0.7200 - val_accuracy: 0.7687\n",
      "Epoch 103/300\n",
      "219/219 [==============================] - 1s 3ms/step - loss: 0.8862 - accuracy: 0.7047 - val_loss: 0.7432 - val_accuracy: 0.7728\n",
      "Epoch 104/300\n",
      "219/219 [==============================] - 1s 3ms/step - loss: 0.8945 - accuracy: 0.6994 - val_loss: 0.7309 - val_accuracy: 0.7682\n",
      "Epoch 105/300\n",
      "219/219 [==============================] - 1s 3ms/step - loss: 0.8925 - accuracy: 0.7008 - val_loss: 0.7253 - val_accuracy: 0.7693\n",
      "Epoch 106/300\n",
      "219/219 [==============================] - 1s 3ms/step - loss: 0.8761 - accuracy: 0.7138 - val_loss: 0.7225 - val_accuracy: 0.7796\n",
      "Epoch 107/300\n",
      "219/219 [==============================] - 1s 3ms/step - loss: 0.8610 - accuracy: 0.7154 - val_loss: 0.6951 - val_accuracy: 0.7876\n",
      "Epoch 108/300\n",
      "219/219 [==============================] - 1s 3ms/step - loss: 0.8792 - accuracy: 0.7081 - val_loss: 0.7028 - val_accuracy: 0.7796\n",
      "Epoch 109/300\n",
      "219/219 [==============================] - 1s 3ms/step - loss: 0.9002 - accuracy: 0.7069 - val_loss: 0.7237 - val_accuracy: 0.7773\n",
      "Epoch 110/300\n",
      "219/219 [==============================] - 1s 3ms/step - loss: 0.8715 - accuracy: 0.7071 - val_loss: 0.7022 - val_accuracy: 0.7825\n",
      "Epoch 111/300\n",
      "219/219 [==============================] - 1s 3ms/step - loss: 0.8769 - accuracy: 0.7115 - val_loss: 0.7124 - val_accuracy: 0.7790\n",
      "Epoch 112/300\n",
      "219/219 [==============================] - 1s 3ms/step - loss: 0.8758 - accuracy: 0.7108 - val_loss: 0.6885 - val_accuracy: 0.7853\n",
      "Epoch 113/300\n",
      "219/219 [==============================] - 1s 3ms/step - loss: 0.8644 - accuracy: 0.7158 - val_loss: 0.6788 - val_accuracy: 0.7916\n",
      "Epoch 114/300\n",
      "219/219 [==============================] - 1s 3ms/step - loss: 0.8499 - accuracy: 0.7187 - val_loss: 0.7032 - val_accuracy: 0.7865\n"
     ]
    },
    {
     "name": "stdout",
     "output_type": "stream",
     "text": [
      "Epoch 115/300\n",
      "219/219 [==============================] - 1s 3ms/step - loss: 0.8634 - accuracy: 0.7108 - val_loss: 0.6972 - val_accuracy: 0.7888\n",
      "Epoch 116/300\n",
      "219/219 [==============================] - 1s 3ms/step - loss: 0.8692 - accuracy: 0.7183 - val_loss: 0.6801 - val_accuracy: 0.7859\n",
      "Epoch 117/300\n",
      "219/219 [==============================] - 1s 3ms/step - loss: 0.8560 - accuracy: 0.7127 - val_loss: 0.7173 - val_accuracy: 0.7728\n",
      "Epoch 118/300\n",
      "219/219 [==============================] - 1s 3ms/step - loss: 0.8439 - accuracy: 0.7233 - val_loss: 0.6826 - val_accuracy: 0.7848\n",
      "Epoch 119/300\n",
      "219/219 [==============================] - 1s 3ms/step - loss: 0.8470 - accuracy: 0.7193 - val_loss: 0.7012 - val_accuracy: 0.7813\n",
      "Epoch 120/300\n",
      "219/219 [==============================] - 1s 3ms/step - loss: 0.8418 - accuracy: 0.7187 - val_loss: 0.6826 - val_accuracy: 0.7922\n",
      "Epoch 121/300\n",
      "219/219 [==============================] - 1s 3ms/step - loss: 0.8549 - accuracy: 0.7190 - val_loss: 0.7142 - val_accuracy: 0.7802\n",
      "Epoch 122/300\n",
      "219/219 [==============================] - 1s 3ms/step - loss: 0.8583 - accuracy: 0.7205 - val_loss: 0.7043 - val_accuracy: 0.7819\n",
      "Epoch 123/300\n",
      "219/219 [==============================] - 1s 3ms/step - loss: 0.8539 - accuracy: 0.7173 - val_loss: 0.7314 - val_accuracy: 0.7853\n",
      "Epoch 124/300\n",
      "219/219 [==============================] - 1s 3ms/step - loss: 0.8597 - accuracy: 0.7184 - val_loss: 0.6963 - val_accuracy: 0.7790\n",
      "Epoch 125/300\n",
      "219/219 [==============================] - 1s 3ms/step - loss: 0.8472 - accuracy: 0.7195 - val_loss: 0.7328 - val_accuracy: 0.7813\n",
      "Epoch 126/300\n",
      "219/219 [==============================] - 1s 3ms/step - loss: 0.8747 - accuracy: 0.7095 - val_loss: 0.6634 - val_accuracy: 0.7962\n",
      "Epoch 127/300\n",
      "219/219 [==============================] - 1s 3ms/step - loss: 0.8609 - accuracy: 0.7190 - val_loss: 0.6850 - val_accuracy: 0.7682\n",
      "Epoch 128/300\n",
      "219/219 [==============================] - 1s 3ms/step - loss: 0.8398 - accuracy: 0.7227 - val_loss: 0.6650 - val_accuracy: 0.7985\n",
      "Epoch 129/300\n",
      "219/219 [==============================] - 1s 3ms/step - loss: 0.8642 - accuracy: 0.7181 - val_loss: 0.6937 - val_accuracy: 0.7768\n",
      "Epoch 130/300\n",
      "219/219 [==============================] - 1s 3ms/step - loss: 0.8493 - accuracy: 0.7198 - val_loss: 0.7200 - val_accuracy: 0.7705\n",
      "Epoch 131/300\n",
      "219/219 [==============================] - 1s 3ms/step - loss: 0.8641 - accuracy: 0.7223 - val_loss: 0.6820 - val_accuracy: 0.7899\n",
      "Epoch 132/300\n",
      "219/219 [==============================] - 1s 3ms/step - loss: 0.8338 - accuracy: 0.7280 - val_loss: 0.6742 - val_accuracy: 0.7916\n",
      "Epoch 133/300\n",
      "219/219 [==============================] - 1s 3ms/step - loss: 0.8386 - accuracy: 0.7231 - val_loss: 0.6848 - val_accuracy: 0.7962\n",
      "Epoch 134/300\n",
      "219/219 [==============================] - 1s 3ms/step - loss: 0.8481 - accuracy: 0.7210 - val_loss: 0.6849 - val_accuracy: 0.7888\n",
      "Epoch 135/300\n",
      "219/219 [==============================] - 1s 3ms/step - loss: 0.8168 - accuracy: 0.7327 - val_loss: 0.6482 - val_accuracy: 0.8037\n",
      "Epoch 136/300\n",
      "219/219 [==============================] - 1s 3ms/step - loss: 0.8223 - accuracy: 0.7291 - val_loss: 0.6774 - val_accuracy: 0.7905\n",
      "Epoch 137/300\n",
      "219/219 [==============================] - 1s 3ms/step - loss: 0.8269 - accuracy: 0.7251 - val_loss: 0.6910 - val_accuracy: 0.7813\n",
      "Epoch 138/300\n",
      "219/219 [==============================] - 1s 3ms/step - loss: 0.8498 - accuracy: 0.7183 - val_loss: 0.6696 - val_accuracy: 0.8008\n",
      "Epoch 139/300\n",
      "219/219 [==============================] - 1s 3ms/step - loss: 0.8649 - accuracy: 0.7223 - val_loss: 0.7004 - val_accuracy: 0.7888\n",
      "Epoch 140/300\n",
      "219/219 [==============================] - 1s 3ms/step - loss: 0.8285 - accuracy: 0.7253 - val_loss: 0.6685 - val_accuracy: 0.7842\n",
      "Epoch 141/300\n",
      "219/219 [==============================] - 1s 3ms/step - loss: 0.8291 - accuracy: 0.7246 - val_loss: 0.6568 - val_accuracy: 0.7968\n",
      "Epoch 142/300\n",
      "219/219 [==============================] - 1s 3ms/step - loss: 0.8381 - accuracy: 0.7258 - val_loss: 0.6792 - val_accuracy: 0.7951\n",
      "Epoch 143/300\n",
      "219/219 [==============================] - 1s 3ms/step - loss: 0.8306 - accuracy: 0.7243 - val_loss: 0.6634 - val_accuracy: 0.8025\n",
      "Epoch 144/300\n",
      "219/219 [==============================] - 1s 3ms/step - loss: 0.8439 - accuracy: 0.7261 - val_loss: 0.6755 - val_accuracy: 0.7831\n",
      "Epoch 145/300\n",
      "219/219 [==============================] - 1s 3ms/step - loss: 0.8328 - accuracy: 0.7243 - val_loss: 0.6556 - val_accuracy: 0.7968\n",
      "Epoch 146/300\n",
      "219/219 [==============================] - 1s 3ms/step - loss: 0.8244 - accuracy: 0.7283 - val_loss: 0.6893 - val_accuracy: 0.7865\n",
      "Epoch 147/300\n",
      "219/219 [==============================] - 1s 3ms/step - loss: 0.8245 - accuracy: 0.7230 - val_loss: 0.6664 - val_accuracy: 0.7928\n",
      "Epoch 148/300\n",
      "219/219 [==============================] - 1s 3ms/step - loss: 0.8149 - accuracy: 0.7301 - val_loss: 0.6476 - val_accuracy: 0.8031\n",
      "Epoch 149/300\n",
      "219/219 [==============================] - 1s 3ms/step - loss: 0.8019 - accuracy: 0.7382 - val_loss: 0.6570 - val_accuracy: 0.7962\n",
      "Epoch 150/300\n",
      "219/219 [==============================] - 1s 3ms/step - loss: 0.7915 - accuracy: 0.7370 - val_loss: 0.6595 - val_accuracy: 0.7905\n",
      "Epoch 151/300\n",
      "219/219 [==============================] - 1s 3ms/step - loss: 0.8418 - accuracy: 0.7264 - val_loss: 0.6474 - val_accuracy: 0.7974\n",
      "Epoch 152/300\n",
      "219/219 [==============================] - 1s 3ms/step - loss: 0.8453 - accuracy: 0.7244 - val_loss: 0.6889 - val_accuracy: 0.7842\n",
      "Epoch 153/300\n",
      "219/219 [==============================] - 1s 3ms/step - loss: 0.8352 - accuracy: 0.7246 - val_loss: 0.6718 - val_accuracy: 0.7871\n",
      "Epoch 154/300\n",
      "219/219 [==============================] - 1s 3ms/step - loss: 0.8362 - accuracy: 0.7257 - val_loss: 0.6733 - val_accuracy: 0.7882\n",
      "Epoch 155/300\n",
      "219/219 [==============================] - 1s 3ms/step - loss: 0.8060 - accuracy: 0.7356 - val_loss: 0.6611 - val_accuracy: 0.7956\n",
      "Epoch 156/300\n",
      "219/219 [==============================] - 1s 3ms/step - loss: 0.8363 - accuracy: 0.7304 - val_loss: 0.6617 - val_accuracy: 0.7985\n",
      "Epoch 157/300\n",
      "219/219 [==============================] - 1s 3ms/step - loss: 0.8184 - accuracy: 0.7283 - val_loss: 0.6560 - val_accuracy: 0.8054\n",
      "Epoch 158/300\n",
      "219/219 [==============================] - 1s 3ms/step - loss: 0.8237 - accuracy: 0.7277 - val_loss: 0.6587 - val_accuracy: 0.7928\n",
      "Epoch 159/300\n",
      "219/219 [==============================] - 1s 3ms/step - loss: 0.7976 - accuracy: 0.7347 - val_loss: 0.6350 - val_accuracy: 0.7962\n",
      "Epoch 160/300\n",
      "219/219 [==============================] - 1s 3ms/step - loss: 0.8351 - accuracy: 0.7203 - val_loss: 0.6962 - val_accuracy: 0.7871\n",
      "Epoch 161/300\n",
      "219/219 [==============================] - 1s 3ms/step - loss: 0.8008 - accuracy: 0.7430 - val_loss: 0.6523 - val_accuracy: 0.7974\n",
      "Epoch 162/300\n",
      "219/219 [==============================] - 1s 3ms/step - loss: 0.8318 - accuracy: 0.7304 - val_loss: 0.6793 - val_accuracy: 0.7882\n",
      "Epoch 163/300\n",
      "219/219 [==============================] - 1s 3ms/step - loss: 0.8198 - accuracy: 0.7276 - val_loss: 0.6870 - val_accuracy: 0.7853\n",
      "Epoch 164/300\n",
      "219/219 [==============================] - 1s 3ms/step - loss: 0.8314 - accuracy: 0.7215 - val_loss: 0.6519 - val_accuracy: 0.8042\n",
      "Epoch 165/300\n",
      "219/219 [==============================] - 1s 3ms/step - loss: 0.8271 - accuracy: 0.7326 - val_loss: 0.6381 - val_accuracy: 0.8002\n",
      "Epoch 166/300\n",
      "219/219 [==============================] - 1s 3ms/step - loss: 0.7902 - accuracy: 0.7389 - val_loss: 0.6471 - val_accuracy: 0.7979\n",
      "Epoch 167/300\n",
      "219/219 [==============================] - 1s 2ms/step - loss: 0.8419 - accuracy: 0.7310 - val_loss: 0.6569 - val_accuracy: 0.7922\n",
      "Epoch 168/300\n",
      "219/219 [==============================] - 1s 3ms/step - loss: 0.8166 - accuracy: 0.7363 - val_loss: 0.6315 - val_accuracy: 0.8048\n",
      "Epoch 169/300\n",
      "219/219 [==============================] - 1s 3ms/step - loss: 0.8357 - accuracy: 0.7284 - val_loss: 0.6426 - val_accuracy: 0.8065\n",
      "Epoch 170/300\n",
      "219/219 [==============================] - 1s 3ms/step - loss: 0.8278 - accuracy: 0.7296 - val_loss: 0.6653 - val_accuracy: 0.7905\n",
      "Epoch 171/300\n",
      "219/219 [==============================] - 1s 3ms/step - loss: 0.7935 - accuracy: 0.7465 - val_loss: 0.6608 - val_accuracy: 0.7956\n",
      "Epoch 172/300\n",
      "219/219 [==============================] - 1s 3ms/step - loss: 0.8154 - accuracy: 0.7331 - val_loss: 0.6704 - val_accuracy: 0.7945\n",
      "Epoch 173/300\n",
      "219/219 [==============================] - 1s 3ms/step - loss: 0.8011 - accuracy: 0.7372 - val_loss: 0.6411 - val_accuracy: 0.7916\n",
      "Epoch 174/300\n",
      "219/219 [==============================] - 1s 3ms/step - loss: 0.7938 - accuracy: 0.7400 - val_loss: 0.6500 - val_accuracy: 0.7979\n",
      "Epoch 175/300\n",
      "219/219 [==============================] - 1s 2ms/step - loss: 0.8071 - accuracy: 0.7389 - val_loss: 0.6554 - val_accuracy: 0.7968\n",
      "Epoch 176/300\n",
      "219/219 [==============================] - 1s 3ms/step - loss: 0.8041 - accuracy: 0.7387 - val_loss: 0.6332 - val_accuracy: 0.7985\n",
      "Epoch 177/300\n",
      "219/219 [==============================] - 1s 3ms/step - loss: 0.8324 - accuracy: 0.7343 - val_loss: 0.6587 - val_accuracy: 0.7911\n",
      "Epoch 178/300\n",
      "219/219 [==============================] - 1s 3ms/step - loss: 0.8071 - accuracy: 0.7404 - val_loss: 0.6466 - val_accuracy: 0.8071\n",
      "Epoch 179/300\n",
      "219/219 [==============================] - 1s 3ms/step - loss: 0.7944 - accuracy: 0.7380 - val_loss: 0.6246 - val_accuracy: 0.8082\n",
      "Epoch 180/300\n",
      "219/219 [==============================] - 1s 3ms/step - loss: 0.8099 - accuracy: 0.7351 - val_loss: 0.6322 - val_accuracy: 0.8008\n",
      "Epoch 181/300\n",
      "219/219 [==============================] - 1s 3ms/step - loss: 0.8133 - accuracy: 0.7313 - val_loss: 0.6404 - val_accuracy: 0.8048\n",
      "Epoch 182/300\n",
      "219/219 [==============================] - 1s 3ms/step - loss: 0.8142 - accuracy: 0.7343 - val_loss: 0.6730 - val_accuracy: 0.7956\n",
      "Epoch 183/300\n",
      "219/219 [==============================] - 1s 3ms/step - loss: 0.7874 - accuracy: 0.7449 - val_loss: 0.6567 - val_accuracy: 0.7991\n",
      "Epoch 184/300\n",
      "219/219 [==============================] - 1s 2ms/step - loss: 0.8011 - accuracy: 0.7420 - val_loss: 0.6696 - val_accuracy: 0.7974\n",
      "Epoch 185/300\n",
      "219/219 [==============================] - 1s 2ms/step - loss: 0.7935 - accuracy: 0.7453 - val_loss: 0.6369 - val_accuracy: 0.8071\n",
      "Epoch 186/300\n",
      "219/219 [==============================] - 1s 2ms/step - loss: 0.8052 - accuracy: 0.7359 - val_loss: 0.6671 - val_accuracy: 0.8019\n",
      "Epoch 187/300\n",
      "219/219 [==============================] - 1s 2ms/step - loss: 0.8028 - accuracy: 0.7317 - val_loss: 0.6754 - val_accuracy: 0.7945\n",
      "Epoch 188/300\n",
      "219/219 [==============================] - 1s 3ms/step - loss: 0.7941 - accuracy: 0.7369 - val_loss: 0.6580 - val_accuracy: 0.7979\n",
      "Epoch 189/300\n",
      "219/219 [==============================] - 1s 3ms/step - loss: 0.7884 - accuracy: 0.7423 - val_loss: 0.6294 - val_accuracy: 0.8071\n",
      "Epoch 190/300\n",
      "219/219 [==============================] - 1s 3ms/step - loss: 0.8099 - accuracy: 0.7393 - val_loss: 0.6562 - val_accuracy: 0.7968\n",
      "Epoch 191/300\n",
      "219/219 [==============================] - 1s 3ms/step - loss: 0.7979 - accuracy: 0.7387 - val_loss: 0.6310 - val_accuracy: 0.8117\n",
      "Epoch 192/300\n",
      "219/219 [==============================] - 1s 3ms/step - loss: 0.7739 - accuracy: 0.7465 - val_loss: 0.6196 - val_accuracy: 0.8088\n",
      "Epoch 193/300\n",
      "219/219 [==============================] - 1s 3ms/step - loss: 0.8031 - accuracy: 0.7330 - val_loss: 0.6244 - val_accuracy: 0.8077\n",
      "Epoch 194/300\n",
      "219/219 [==============================] - 1s 3ms/step - loss: 0.7960 - accuracy: 0.7383 - val_loss: 0.6277 - val_accuracy: 0.8111\n",
      "Epoch 195/300\n",
      "219/219 [==============================] - 1s 3ms/step - loss: 0.7864 - accuracy: 0.7432 - val_loss: 0.6491 - val_accuracy: 0.7974\n",
      "Epoch 196/300\n",
      "219/219 [==============================] - 1s 2ms/step - loss: 0.8101 - accuracy: 0.7296 - val_loss: 0.6291 - val_accuracy: 0.8019\n",
      "Epoch 197/300\n",
      "219/219 [==============================] - 1s 2ms/step - loss: 0.7859 - accuracy: 0.7459 - val_loss: 0.6159 - val_accuracy: 0.8191\n",
      "Epoch 198/300\n",
      "219/219 [==============================] - 1s 2ms/step - loss: 0.7885 - accuracy: 0.7380 - val_loss: 0.6673 - val_accuracy: 0.7882\n",
      "Epoch 199/300\n",
      "219/219 [==============================] - 1s 3ms/step - loss: 0.8145 - accuracy: 0.7340 - val_loss: 0.6177 - val_accuracy: 0.8134\n",
      "Epoch 200/300\n",
      "219/219 [==============================] - 1s 3ms/step - loss: 0.8083 - accuracy: 0.7311 - val_loss: 0.6314 - val_accuracy: 0.8071\n",
      "Epoch 201/300\n",
      "219/219 [==============================] - 1s 3ms/step - loss: 0.7945 - accuracy: 0.7360 - val_loss: 0.6053 - val_accuracy: 0.8151\n",
      "Epoch 202/300\n",
      "219/219 [==============================] - 1s 3ms/step - loss: 0.7877 - accuracy: 0.7379 - val_loss: 0.6096 - val_accuracy: 0.8140\n",
      "Epoch 203/300\n",
      "219/219 [==============================] - 1s 3ms/step - loss: 0.8070 - accuracy: 0.7361 - val_loss: 0.6251 - val_accuracy: 0.8054\n",
      "Epoch 204/300\n",
      "219/219 [==============================] - 1s 3ms/step - loss: 0.7833 - accuracy: 0.7446 - val_loss: 0.5992 - val_accuracy: 0.8060\n",
      "Epoch 205/300\n",
      "219/219 [==============================] - 1s 3ms/step - loss: 0.7663 - accuracy: 0.7490 - val_loss: 0.6236 - val_accuracy: 0.8088\n",
      "Epoch 206/300\n",
      "219/219 [==============================] - 1s 3ms/step - loss: 0.7907 - accuracy: 0.7435 - val_loss: 0.6044 - val_accuracy: 0.8111\n",
      "Epoch 207/300\n",
      "219/219 [==============================] - 1s 3ms/step - loss: 0.8022 - accuracy: 0.7349 - val_loss: 0.6300 - val_accuracy: 0.8054\n",
      "Epoch 208/300\n",
      "219/219 [==============================] - 1s 3ms/step - loss: 0.8019 - accuracy: 0.7372 - val_loss: 0.6275 - val_accuracy: 0.8105\n",
      "Epoch 209/300\n",
      "219/219 [==============================] - 1s 3ms/step - loss: 0.7827 - accuracy: 0.7447 - val_loss: 0.6279 - val_accuracy: 0.8042\n",
      "Epoch 210/300\n",
      "219/219 [==============================] - 1s 3ms/step - loss: 0.7645 - accuracy: 0.7403 - val_loss: 0.6368 - val_accuracy: 0.8025\n",
      "Epoch 211/300\n",
      "219/219 [==============================] - 1s 3ms/step - loss: 0.7845 - accuracy: 0.7440 - val_loss: 0.6298 - val_accuracy: 0.8060\n",
      "Epoch 212/300\n",
      "219/219 [==============================] - 1s 3ms/step - loss: 0.7661 - accuracy: 0.7499 - val_loss: 0.6056 - val_accuracy: 0.8065\n",
      "Epoch 213/300\n",
      "219/219 [==============================] - 1s 3ms/step - loss: 0.7948 - accuracy: 0.7427 - val_loss: 0.6070 - val_accuracy: 0.8100\n",
      "Epoch 214/300\n",
      "219/219 [==============================] - 1s 2ms/step - loss: 0.7839 - accuracy: 0.7420 - val_loss: 0.6110 - val_accuracy: 0.8054\n",
      "Epoch 215/300\n",
      "219/219 [==============================] - 1s 3ms/step - loss: 0.7783 - accuracy: 0.7384 - val_loss: 0.6237 - val_accuracy: 0.8048\n",
      "Epoch 216/300\n",
      "219/219 [==============================] - 1s 3ms/step - loss: 0.7603 - accuracy: 0.7502 - val_loss: 0.5945 - val_accuracy: 0.8117\n",
      "Epoch 217/300\n",
      "219/219 [==============================] - 1s 3ms/step - loss: 0.7815 - accuracy: 0.7426 - val_loss: 0.6183 - val_accuracy: 0.8105\n",
      "Epoch 218/300\n",
      "219/219 [==============================] - 1s 3ms/step - loss: 0.7825 - accuracy: 0.7407 - val_loss: 0.6093 - val_accuracy: 0.8100\n",
      "Epoch 219/300\n",
      "219/219 [==============================] - 1s 3ms/step - loss: 0.7665 - accuracy: 0.7483 - val_loss: 0.6147 - val_accuracy: 0.8071\n",
      "Epoch 220/300\n",
      "219/219 [==============================] - 1s 3ms/step - loss: 0.7917 - accuracy: 0.7432 - val_loss: 0.6164 - val_accuracy: 0.8065\n",
      "Epoch 221/300\n",
      "219/219 [==============================] - 1s 3ms/step - loss: 0.7856 - accuracy: 0.7460 - val_loss: 0.6168 - val_accuracy: 0.8048\n",
      "Epoch 222/300\n",
      "219/219 [==============================] - 1s 3ms/step - loss: 0.7594 - accuracy: 0.7465 - val_loss: 0.6084 - val_accuracy: 0.8082\n",
      "Epoch 223/300\n",
      "219/219 [==============================] - 1s 2ms/step - loss: 0.7775 - accuracy: 0.7443 - val_loss: 0.6241 - val_accuracy: 0.8048\n",
      "Epoch 224/300\n",
      "219/219 [==============================] - 1s 3ms/step - loss: 0.7830 - accuracy: 0.7410 - val_loss: 0.6185 - val_accuracy: 0.8054\n",
      "Epoch 225/300\n",
      "219/219 [==============================] - 1s 3ms/step - loss: 0.7736 - accuracy: 0.7497 - val_loss: 0.6395 - val_accuracy: 0.7956\n",
      "Epoch 226/300\n",
      "219/219 [==============================] - 1s 3ms/step - loss: 0.7835 - accuracy: 0.7414 - val_loss: 0.6264 - val_accuracy: 0.8122\n",
      "Epoch 227/300\n"
     ]
    },
    {
     "name": "stdout",
     "output_type": "stream",
     "text": [
      "219/219 [==============================] - 1s 3ms/step - loss: 0.7969 - accuracy: 0.7367 - val_loss: 0.5989 - val_accuracy: 0.8231\n",
      "Epoch 228/300\n",
      "219/219 [==============================] - 1s 3ms/step - loss: 0.7640 - accuracy: 0.7500 - val_loss: 0.5964 - val_accuracy: 0.8157\n",
      "Epoch 229/300\n",
      "219/219 [==============================] - 1s 3ms/step - loss: 0.7812 - accuracy: 0.7426 - val_loss: 0.6139 - val_accuracy: 0.8111\n",
      "Epoch 230/300\n",
      "219/219 [==============================] - 1s 3ms/step - loss: 0.7699 - accuracy: 0.7457 - val_loss: 0.6105 - val_accuracy: 0.8088\n",
      "Epoch 231/300\n",
      "219/219 [==============================] - 1s 3ms/step - loss: 0.7734 - accuracy: 0.7459 - val_loss: 0.5882 - val_accuracy: 0.8197\n",
      "Epoch 232/300\n",
      "219/219 [==============================] - 1s 3ms/step - loss: 0.7856 - accuracy: 0.7402 - val_loss: 0.5982 - val_accuracy: 0.8111\n",
      "Epoch 233/300\n",
      "219/219 [==============================] - 1s 3ms/step - loss: 0.7744 - accuracy: 0.7466 - val_loss: 0.5959 - val_accuracy: 0.8191\n",
      "Epoch 234/300\n",
      "219/219 [==============================] - 1s 3ms/step - loss: 0.7666 - accuracy: 0.7483 - val_loss: 0.6100 - val_accuracy: 0.8111\n",
      "Epoch 235/300\n",
      "219/219 [==============================] - 1s 3ms/step - loss: 0.7535 - accuracy: 0.7508 - val_loss: 0.6096 - val_accuracy: 0.8122\n",
      "Epoch 236/300\n",
      "219/219 [==============================] - 1s 3ms/step - loss: 0.7748 - accuracy: 0.7397 - val_loss: 0.6209 - val_accuracy: 0.8002\n",
      "Epoch 237/300\n",
      "219/219 [==============================] - 1s 3ms/step - loss: 0.7814 - accuracy: 0.7442 - val_loss: 0.6115 - val_accuracy: 0.8117\n",
      "Epoch 238/300\n",
      "219/219 [==============================] - 1s 3ms/step - loss: 0.7897 - accuracy: 0.7453 - val_loss: 0.6056 - val_accuracy: 0.8094\n",
      "Epoch 239/300\n",
      "219/219 [==============================] - 1s 3ms/step - loss: 0.8031 - accuracy: 0.7377 - val_loss: 0.6173 - val_accuracy: 0.8082\n",
      "Epoch 240/300\n",
      "219/219 [==============================] - 1s 3ms/step - loss: 0.7603 - accuracy: 0.7463 - val_loss: 0.6103 - val_accuracy: 0.8117\n",
      "Epoch 241/300\n",
      "219/219 [==============================] - 1s 3ms/step - loss: 0.7623 - accuracy: 0.7475 - val_loss: 0.6086 - val_accuracy: 0.8180\n",
      "Epoch 242/300\n",
      "219/219 [==============================] - 1s 3ms/step - loss: 0.7854 - accuracy: 0.7423 - val_loss: 0.6067 - val_accuracy: 0.8111\n",
      "Epoch 243/300\n",
      "219/219 [==============================] - 1s 3ms/step - loss: 0.7521 - accuracy: 0.7560 - val_loss: 0.6172 - val_accuracy: 0.8048\n",
      "Epoch 244/300\n",
      "219/219 [==============================] - 1s 3ms/step - loss: 0.7545 - accuracy: 0.7579 - val_loss: 0.5763 - val_accuracy: 0.8214\n",
      "Epoch 245/300\n",
      "219/219 [==============================] - 1s 3ms/step - loss: 0.7811 - accuracy: 0.7476 - val_loss: 0.6191 - val_accuracy: 0.8111\n",
      "Epoch 246/300\n",
      "219/219 [==============================] - 1s 3ms/step - loss: 0.7684 - accuracy: 0.7493 - val_loss: 0.6199 - val_accuracy: 0.8031\n",
      "Epoch 247/300\n",
      "219/219 [==============================] - 1s 3ms/step - loss: 0.7840 - accuracy: 0.7426 - val_loss: 0.6054 - val_accuracy: 0.8105\n",
      "Epoch 248/300\n",
      "219/219 [==============================] - 1s 3ms/step - loss: 0.7625 - accuracy: 0.7542 - val_loss: 0.5983 - val_accuracy: 0.8140\n",
      "Epoch 249/300\n",
      "219/219 [==============================] - 1s 3ms/step - loss: 0.7646 - accuracy: 0.7493 - val_loss: 0.6126 - val_accuracy: 0.8140\n",
      "Epoch 250/300\n",
      "219/219 [==============================] - 1s 3ms/step - loss: 0.7717 - accuracy: 0.7462 - val_loss: 0.6179 - val_accuracy: 0.8048\n",
      "Epoch 251/300\n",
      "219/219 [==============================] - 1s 3ms/step - loss: 0.7930 - accuracy: 0.7387 - val_loss: 0.6151 - val_accuracy: 0.8019\n",
      "Epoch 252/300\n",
      "219/219 [==============================] - 1s 3ms/step - loss: 0.7798 - accuracy: 0.7400 - val_loss: 0.6224 - val_accuracy: 0.8071\n",
      "Epoch 253/300\n",
      "219/219 [==============================] - 1s 3ms/step - loss: 0.7578 - accuracy: 0.7543 - val_loss: 0.5961 - val_accuracy: 0.8128\n",
      "Epoch 254/300\n",
      "219/219 [==============================] - 1s 3ms/step - loss: 0.7681 - accuracy: 0.7485 - val_loss: 0.6018 - val_accuracy: 0.8191\n",
      "Epoch 255/300\n",
      "219/219 [==============================] - 1s 3ms/step - loss: 0.7737 - accuracy: 0.7443 - val_loss: 0.6221 - val_accuracy: 0.8054\n",
      "Epoch 256/300\n",
      "219/219 [==============================] - 1s 3ms/step - loss: 0.7333 - accuracy: 0.7572 - val_loss: 0.5891 - val_accuracy: 0.8163\n",
      "Epoch 257/300\n",
      "219/219 [==============================] - 1s 3ms/step - loss: 0.7534 - accuracy: 0.7528 - val_loss: 0.5981 - val_accuracy: 0.8077\n",
      "Epoch 258/300\n",
      "219/219 [==============================] - 1s 3ms/step - loss: 0.7557 - accuracy: 0.7526 - val_loss: 0.6044 - val_accuracy: 0.8140\n",
      "Epoch 259/300\n",
      "219/219 [==============================] - 1s 3ms/step - loss: 0.7709 - accuracy: 0.7393 - val_loss: 0.5905 - val_accuracy: 0.8048\n",
      "Epoch 260/300\n",
      "219/219 [==============================] - 1s 3ms/step - loss: 0.7705 - accuracy: 0.7427 - val_loss: 0.5880 - val_accuracy: 0.8151\n",
      "Epoch 261/300\n",
      "219/219 [==============================] - 1s 3ms/step - loss: 0.7641 - accuracy: 0.7439 - val_loss: 0.6071 - val_accuracy: 0.8140\n",
      "Epoch 262/300\n",
      "219/219 [==============================] - 1s 3ms/step - loss: 0.7747 - accuracy: 0.7424 - val_loss: 0.5989 - val_accuracy: 0.8203\n",
      "Epoch 263/300\n",
      "219/219 [==============================] - 1s 3ms/step - loss: 0.7597 - accuracy: 0.7533 - val_loss: 0.5900 - val_accuracy: 0.8185\n",
      "Epoch 264/300\n",
      "219/219 [==============================] - 1s 3ms/step - loss: 0.7441 - accuracy: 0.7545 - val_loss: 0.5898 - val_accuracy: 0.8071\n",
      "Epoch 265/300\n",
      "219/219 [==============================] - 1s 3ms/step - loss: 0.7792 - accuracy: 0.7457 - val_loss: 0.5843 - val_accuracy: 0.8203\n",
      "Epoch 266/300\n",
      "219/219 [==============================] - 1s 3ms/step - loss: 0.7700 - accuracy: 0.7472 - val_loss: 0.6128 - val_accuracy: 0.8060\n",
      "Epoch 267/300\n",
      "219/219 [==============================] - 1s 3ms/step - loss: 0.7360 - accuracy: 0.7549 - val_loss: 0.5885 - val_accuracy: 0.8105\n",
      "Epoch 268/300\n",
      "219/219 [==============================] - 1s 3ms/step - loss: 0.7765 - accuracy: 0.7455 - val_loss: 0.6093 - val_accuracy: 0.8140\n",
      "Epoch 269/300\n",
      "219/219 [==============================] - 1s 3ms/step - loss: 0.7604 - accuracy: 0.7513 - val_loss: 0.6061 - val_accuracy: 0.8088\n",
      "Epoch 270/300\n",
      "219/219 [==============================] - 1s 3ms/step - loss: 0.7425 - accuracy: 0.7543 - val_loss: 0.6026 - val_accuracy: 0.8134\n",
      "Epoch 271/300\n",
      "219/219 [==============================] - 1s 3ms/step - loss: 0.7683 - accuracy: 0.7532 - val_loss: 0.6005 - val_accuracy: 0.8145\n",
      "Epoch 272/300\n",
      "219/219 [==============================] - 1s 3ms/step - loss: 0.7445 - accuracy: 0.7532 - val_loss: 0.5848 - val_accuracy: 0.8174\n",
      "Epoch 273/300\n",
      "219/219 [==============================] - 1s 3ms/step - loss: 0.7653 - accuracy: 0.7533 - val_loss: 0.6017 - val_accuracy: 0.8060\n",
      "Epoch 274/300\n",
      "219/219 [==============================] - 1s 3ms/step - loss: 0.7555 - accuracy: 0.7548 - val_loss: 0.6089 - val_accuracy: 0.8111\n",
      "Epoch 275/300\n",
      "219/219 [==============================] - 1s 3ms/step - loss: 0.7632 - accuracy: 0.7465 - val_loss: 0.5775 - val_accuracy: 0.8174\n",
      "Epoch 276/300\n",
      "219/219 [==============================] - 1s 3ms/step - loss: 0.7798 - accuracy: 0.7480 - val_loss: 0.5719 - val_accuracy: 0.8140\n",
      "Epoch 277/300\n",
      "219/219 [==============================] - 1s 3ms/step - loss: 0.7559 - accuracy: 0.7588 - val_loss: 0.5872 - val_accuracy: 0.8157\n",
      "Epoch 278/300\n",
      "219/219 [==============================] - 1s 3ms/step - loss: 0.7638 - accuracy: 0.7460 - val_loss: 0.5985 - val_accuracy: 0.8128\n",
      "Epoch 279/300\n",
      "219/219 [==============================] - 1s 3ms/step - loss: 0.7569 - accuracy: 0.7539 - val_loss: 0.6058 - val_accuracy: 0.8185\n",
      "Epoch 280/300\n",
      "219/219 [==============================] - 1s 3ms/step - loss: 0.7820 - accuracy: 0.7392 - val_loss: 0.5814 - val_accuracy: 0.8168\n",
      "Epoch 281/300\n",
      "219/219 [==============================] - 1s 3ms/step - loss: 0.7432 - accuracy: 0.7602 - val_loss: 0.5731 - val_accuracy: 0.8208\n",
      "Epoch 282/300\n",
      "219/219 [==============================] - 1s 3ms/step - loss: 0.7588 - accuracy: 0.7515 - val_loss: 0.6168 - val_accuracy: 0.8077\n",
      "Epoch 283/300\n",
      "219/219 [==============================] - 1s 3ms/step - loss: 0.7539 - accuracy: 0.7548 - val_loss: 0.6019 - val_accuracy: 0.8168\n",
      "Epoch 284/300\n",
      "219/219 [==============================] - 1s 3ms/step - loss: 0.7544 - accuracy: 0.7515 - val_loss: 0.6218 - val_accuracy: 0.8105\n",
      "Epoch 285/300\n",
      "219/219 [==============================] - 1s 3ms/step - loss: 0.7535 - accuracy: 0.7492 - val_loss: 0.5855 - val_accuracy: 0.8203\n",
      "Epoch 286/300\n",
      "219/219 [==============================] - 1s 3ms/step - loss: 0.7387 - accuracy: 0.7595 - val_loss: 0.5715 - val_accuracy: 0.8231\n",
      "Epoch 287/300\n",
      "219/219 [==============================] - 1s 3ms/step - loss: 0.7786 - accuracy: 0.7477 - val_loss: 0.5721 - val_accuracy: 0.8157\n",
      "Epoch 288/300\n",
      "219/219 [==============================] - 1s 3ms/step - loss: 0.7589 - accuracy: 0.7466 - val_loss: 0.5977 - val_accuracy: 0.8191\n",
      "Epoch 289/300\n",
      "219/219 [==============================] - 1s 3ms/step - loss: 0.7710 - accuracy: 0.7489 - val_loss: 0.5780 - val_accuracy: 0.8174\n",
      "Epoch 290/300\n",
      "219/219 [==============================] - 1s 2ms/step - loss: 0.7444 - accuracy: 0.7532 - val_loss: 0.5935 - val_accuracy: 0.8111\n",
      "Epoch 291/300\n",
      "219/219 [==============================] - 1s 2ms/step - loss: 0.7622 - accuracy: 0.7506 - val_loss: 0.5918 - val_accuracy: 0.8100\n",
      "Epoch 292/300\n",
      "219/219 [==============================] - 1s 2ms/step - loss: 0.7650 - accuracy: 0.7456 - val_loss: 0.5901 - val_accuracy: 0.8180\n",
      "Epoch 293/300\n",
      "219/219 [==============================] - 1s 2ms/step - loss: 0.7692 - accuracy: 0.7477 - val_loss: 0.5948 - val_accuracy: 0.8100\n",
      "Epoch 294/300\n",
      "219/219 [==============================] - 1s 2ms/step - loss: 0.7622 - accuracy: 0.7432 - val_loss: 0.5863 - val_accuracy: 0.8197\n",
      "Epoch 295/300\n",
      "219/219 [==============================] - 1s 2ms/step - loss: 0.7610 - accuracy: 0.7479 - val_loss: 0.5885 - val_accuracy: 0.8185\n",
      "Epoch 296/300\n",
      "219/219 [==============================] - 1s 2ms/step - loss: 0.7534 - accuracy: 0.7560 - val_loss: 0.5964 - val_accuracy: 0.8231\n",
      "Epoch 297/300\n",
      "219/219 [==============================] - 1s 2ms/step - loss: 0.7509 - accuracy: 0.7533 - val_loss: 0.6208 - val_accuracy: 0.8065\n",
      "Epoch 298/300\n",
      "219/219 [==============================] - 1s 2ms/step - loss: 0.7448 - accuracy: 0.7572 - val_loss: 0.5881 - val_accuracy: 0.8220\n",
      "Epoch 299/300\n",
      "219/219 [==============================] - 1s 2ms/step - loss: 0.7469 - accuracy: 0.7582 - val_loss: 0.5857 - val_accuracy: 0.8191\n",
      "Epoch 300/300\n",
      "219/219 [==============================] - 1s 2ms/step - loss: 0.7410 - accuracy: 0.7516 - val_loss: 0.5848 - val_accuracy: 0.8203\n"
     ]
    },
    {
     "data": {
      "text/plain": [
       "<keras.callbacks.History at 0x231bb6730a0>"
      ]
     },
     "execution_count": 38,
     "metadata": {},
     "output_type": "execute_result"
    }
   ],
   "source": [
    "# Modeli eğitmek\n",
    "\n",
    "epochscount = 300\n",
    "num_batch_size = 32\n",
    "\n",
    "model.fit(X_train, y_train, batch_size=num_batch_size, epochs=epochscount, validation_data=(X_test, y_test), verbose=1)\n"
   ]
  },
  {
   "cell_type": "code",
   "execution_count": 39,
   "id": "1ba36269",
   "metadata": {},
   "outputs": [
    {
     "name": "stdout",
     "output_type": "stream",
     "text": [
      "0.8202633261680603\n"
     ]
    }
   ],
   "source": [
    "validation_test_set_accuracy = model.evaluate(X_test,y_test,verbose=0)\n",
    "print(validation_test_set_accuracy[1])"
   ]
  },
  {
   "cell_type": "code",
   "execution_count": 40,
   "id": "bbc9c152",
   "metadata": {},
   "outputs": [
    {
     "data": {
      "text/plain": [
       "array([-466.17957  ,    1.0950246,  -34.01389  ,   35.33935  ,\n",
       "        -14.88148  ,  -19.12843  ,   -0.581684 ,  -16.130579 ,\n",
       "        -21.339075 ,    7.673634 ,  -29.16449  ,  -18.950253 ,\n",
       "         -2.9579992,   -8.162329 ,  -15.153101 ,   -6.604805 ,\n",
       "         -7.5685983,    9.340646 ,   14.4331   ,   21.934181 ,\n",
       "         20.861397 ,    1.3340123,  -19.228804 ,   -4.630231 ,\n",
       "         -1.0564743,    3.215267 ,   -6.984281 ,  -16.414577 ,\n",
       "        -10.0286455,   13.009956 ,    0.5334608,  -23.843391 ,\n",
       "        -15.267321 ,    9.245734 ,   10.367627 ,   -0.5832011,\n",
       "         -1.2624055,   17.700016 ,   13.847463 ,   -5.1862826],\n",
       "      dtype=float32)"
      ]
     },
     "execution_count": 40,
     "metadata": {},
     "output_type": "execute_result"
    }
   ],
   "source": [
    "X_test[1]"
   ]
  },
  {
   "cell_type": "code",
   "execution_count": 41,
   "id": "e59213fe",
   "metadata": {},
   "outputs": [
    {
     "name": "stdout",
     "output_type": "stream",
     "text": [
      "55/55 [==============================] - 0s 1ms/step\n"
     ]
    }
   ],
   "source": [
    "predictions = model.predict(X_test)\n",
    "predicted_classes = np.argmax(predictions, axis=1)"
   ]
  },
  {
   "cell_type": "markdown",
   "id": "e303e05e",
   "metadata": {},
   "source": [
    "CNN Modelimizi Kullanarak Bir Ses Dosyasının Sınıfını Tahmin Ediyoruz.\n",
    "\n",
    "Önce yeni ses ortamı olarak işliyoruz ve sonraki sınıfı tahmin ediyoruz."
   ]
  },
  {
   "cell_type": "code",
   "execution_count": 42,
   "id": "299e3918",
   "metadata": {},
   "outputs": [],
   "source": [
    "filename=\"wav_path\"\n",
    "sound_signal, sample_rate = librosa.load(filename, res_type='kaiser_fast') \n",
    "mfccs_features = librosa.feature.mfcc(y=sound_signal, sr=sample_rate, n_mfcc=40)\n",
    "mfccs_scaled_features = np.mean(mfccs_features.T,axis=0)"
   ]
  },
  {
   "cell_type": "code",
   "execution_count": 43,
   "id": "581f69d7",
   "metadata": {},
   "outputs": [
    {
     "name": "stdout",
     "output_type": "stream",
     "text": [
      "[-2.6935144e+02  1.3180406e+02  3.0552094e+00 -1.5418642e+01\n",
      " -4.5053989e+01  8.1400518e+00 -2.3114010e+01 -2.0470648e+01\n",
      " -2.4931124e+01 -8.9026871e+00 -1.0712789e+00  1.3080616e+00\n",
      " -3.2105761e+00 -3.1079106e+00 -1.6007302e+00  6.1797256e+00\n",
      " -6.4077549e-02 -6.0688586e+00 -5.3680668e+00 -1.9135537e+00\n",
      " -1.0260819e+01 -6.0929441e+00 -7.8891764e+00 -4.2310629e+00\n",
      " -2.6515894e+00  8.2413852e-01  9.9788368e-01 -1.2166636e+00\n",
      " -9.5165503e-01  3.0775521e+00 -3.9112416e-01 -3.5094411e+00\n",
      " -1.4894108e+00  1.0855072e+00 -1.9442009e-02 -2.2774961e+00\n",
      " -2.3359878e+00 -2.4188461e+00 -2.3379452e+00 -8.8834047e-01]\n"
     ]
    }
   ],
   "source": [
    "print(mfccs_scaled_features)"
   ]
  },
  {
   "cell_type": "code",
   "execution_count": 44,
   "id": "49ed1266",
   "metadata": {},
   "outputs": [],
   "source": [
    "mfccs_scaled_features = mfccs_scaled_features.reshape(1,-1)"
   ]
  },
  {
   "cell_type": "code",
   "execution_count": 45,
   "id": "3b6c02fd",
   "metadata": {},
   "outputs": [
    {
     "data": {
      "text/plain": [
       "(1, 40)"
      ]
     },
     "execution_count": 45,
     "metadata": {},
     "output_type": "execute_result"
    }
   ],
   "source": [
    "mfccs_scaled_features.shape"
   ]
  },
  {
   "cell_type": "code",
   "execution_count": 46,
   "id": "dd4bc08c",
   "metadata": {},
   "outputs": [
    {
     "name": "stdout",
     "output_type": "stream",
     "text": [
      "[[-2.6935144e+02  1.3180406e+02  3.0552094e+00 -1.5418642e+01\n",
      "  -4.5053989e+01  8.1400518e+00 -2.3114010e+01 -2.0470648e+01\n",
      "  -2.4931124e+01 -8.9026871e+00 -1.0712789e+00  1.3080616e+00\n",
      "  -3.2105761e+00 -3.1079106e+00 -1.6007302e+00  6.1797256e+00\n",
      "  -6.4077549e-02 -6.0688586e+00 -5.3680668e+00 -1.9135537e+00\n",
      "  -1.0260819e+01 -6.0929441e+00 -7.8891764e+00 -4.2310629e+00\n",
      "  -2.6515894e+00  8.2413852e-01  9.9788368e-01 -1.2166636e+00\n",
      "  -9.5165503e-01  3.0775521e+00 -3.9112416e-01 -3.5094411e+00\n",
      "  -1.4894108e+00  1.0855072e+00 -1.9442009e-02 -2.2774961e+00\n",
      "  -2.3359878e+00 -2.4188461e+00 -2.3379452e+00 -8.8834047e-01]]\n"
     ]
    }
   ],
   "source": [
    "print(mfccs_scaled_features)"
   ]
  },
  {
   "cell_type": "code",
   "execution_count": 47,
   "id": "7f060dfc",
   "metadata": {},
   "outputs": [
    {
     "name": "stdout",
     "output_type": "stream",
     "text": [
      "(1, 40)\n"
     ]
    }
   ],
   "source": [
    "print(mfccs_scaled_features.shape)"
   ]
  },
  {
   "cell_type": "code",
   "execution_count": 48,
   "id": "ca776294",
   "metadata": {},
   "outputs": [
    {
     "name": "stdout",
     "output_type": "stream",
     "text": [
      "1/1 [==============================] - 0s 28ms/step\n"
     ]
    }
   ],
   "source": [
    "result_array = model.predict(mfccs_scaled_features)"
   ]
  },
  {
   "cell_type": "code",
   "execution_count": 49,
   "id": "9711fa0e",
   "metadata": {},
   "outputs": [
    {
     "data": {
      "text/plain": [
       "array([[1.41048930e-38, 1.11740809e-22, 9.58587682e-25, 1.00000000e+00,\n",
       "        1.39567028e-21, 1.10433581e-28, 4.41576636e-12, 0.00000000e+00,\n",
       "        1.04882581e-17, 1.06594054e-16]], dtype=float32)"
      ]
     },
     "execution_count": 49,
     "metadata": {},
     "output_type": "execute_result"
    }
   ],
   "source": [
    "result_array"
   ]
  },
  {
   "cell_type": "code",
   "execution_count": 50,
   "id": "1d4c6cfd",
   "metadata": {},
   "outputs": [
    {
     "name": "stdout",
     "output_type": "stream",
     "text": [
      "dog_bark\n"
     ]
    }
   ],
   "source": [
    "result_classes = [\"air_conditioner\",\"car_horn\",\"children_playing\",\"dog_bark\",\"drilling\", \"engine_idling\", \"gun_shot\", \"jackhammer\", \"siren\", \"street_music\"]\n",
    "\n",
    "result = np.argmax(result_array[0])\n",
    "print(result_classes[result]) "
   ]
  },
  {
   "cell_type": "code",
   "execution_count": null,
   "id": "1a6d752b",
   "metadata": {},
   "outputs": [],
   "source": []
  }
 ],
 "metadata": {
  "kernelspec": {
   "display_name": "Python 3 (ipykernel)",
   "language": "python",
   "name": "python3"
  },
  "language_info": {
   "codemirror_mode": {
    "name": "ipython",
    "version": 3
   },
   "file_extension": ".py",
   "mimetype": "text/x-python",
   "name": "python",
   "nbconvert_exporter": "python",
   "pygments_lexer": "ipython3",
   "version": "3.10.12"
  }
 },
 "nbformat": 4,
 "nbformat_minor": 5
}
